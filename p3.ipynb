{
 "cells": [
  {
   "cell_type": "markdown",
   "metadata": {},
   "source": [
    "# Phase III\n",
    "### Preregistration of Analyses"
   ]
  },
  {
   "cell_type": "markdown",
   "metadata": {},
   "source": [
    "#### Analysis 1:\n",
    "\n",
    "The first analyis that I vow to present in my final report is if the day of the week is predictive of the daily average wait time for each individual ride and the parks overall. "
   ]
  },
  {
   "cell_type": "markdown",
   "metadata": {},
   "source": [
    "#### Analysis 2:\n",
    "\n",
    "The second analysis I vow to present is if the `inSession` variable, which represents the percentage of schools in session, is predictive of the daily average wait time for each individual ride and the parks overall. "
   ]
  },
  {
   "cell_type": "markdown",
   "metadata": {},
   "source": [
    "### Questions for Reviews:\n",
    "1. How would I go about integrating significant events or news stories about Disney over this time period into my analysis? Should I look for weird patterns in my data and then look at news for that time? Or vice versa?\n",
    "2. Are there any other specific analyses you think I should take a look at?\n",
    "3. Is there a minimum or maximum of research questions I should look to answer?"
   ]
  }
 ],
 "metadata": {
  "kernelspec": {
   "display_name": "Python 3",
   "language": "python",
   "name": "python3"
  },
  "language_info": {
   "codemirror_mode": {
    "name": "ipython",
    "version": 3
   },
   "file_extension": ".py",
   "mimetype": "text/x-python",
   "name": "python",
   "nbconvert_exporter": "python",
   "pygments_lexer": "ipython3",
   "version": "3.8.5"
  }
 },
 "nbformat": 4,
 "nbformat_minor": 4
}
