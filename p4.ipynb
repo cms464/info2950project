{
 "cells": [
  {
   "cell_type": "markdown",
   "metadata": {},
   "source": [
    "# INFO 2950: Project Phase IV"
   ]
  },
  {
   "cell_type": "markdown",
   "metadata": {},
   "source": [
    "## I. Introduction"
   ]
  },
  {
   "cell_type": "markdown",
   "metadata": {},
   "source": [
    "#### What is the context of the work? \n",
    "\n",
    "If you have ever been to Walt Disney World before, you know that wait times for some rides can be very long. Although there is a fast pass option available that enables visitors to skip these long lines, there is a limited amount of fast passes one can get per day. Hence, Disney World visitors more than likely will experience waiting in some pretty long lines. However, the wait times for different attractions certainly vary depending on what day of the year or time of day it is. For instance, during the holidays, where Disney World is immaculately decorated and students have off from school, wait times will probably be longer. In addition, during very early or very late hours, wait times may not be as long, depending on the park. Lastly, the weather might also influence how many guests visit Disney World and which attractions have the longest wait times. As one can see, there are numerous factors that affect the wait times of different attractions at Disney World. "
   ]
  },
  {
   "cell_type": "markdown",
   "metadata": {},
   "source": [
    "#### What research questions are you trying to answer?\n",
    "To get a better idea of what effects different factors have on the wait times at Disney World, I will try to answer the following questions:\n",
    " - What time of day is most popular for certain rides?\n",
    " - What day of the week/month of the year is Disney World typically most crowded?\n",
    " - How does the percentage of schools in session affect the wait times for different rides? \n",
    " - Is there a noticeable effect on the wait times for rides after a major news event regarding Disney has occurred?"
   ]
  },
  {
   "cell_type": "markdown",
   "metadata": {},
   "source": [
    "#### What are your main findings? Include a brief summary of your results.\n",
    "After analyzing the data to try to answer the above questions, I ended up with the following resutlts:\n",
    " - The time of day with the highest wait times tends to be similar for the attractions in the same park. However, for each of the four parks at Disney World, the most crowded times of the day are different. \n",
    " - For most rides, Saturday tends to have the highest average hourly wait times. A couple of the rides analyzed below have the highest wait times on other days of the week. In terms of months, March and December look to have the highest average hourly wait times. \n",
    " - Although the relationship does not seem to be too strong, average hourly wait times do tend to increase as less schools are in session. Therefore, there is some evidence of an inverse relationship between the percentage of schools in session and the wait times for attractions in the different parks.\n",
    " - The effect on wait times depends on the news event. When \"Pandora: The World of Avatar\" opened in Animal Kingdom in late May 2017, the wait times of the three rides in that park analyzed did not show a glaring difference, but they did seem to go down a bit. Next, when the new firework and light show debuted at Magic Kingdom on May 12, 2017, the wait times for the rides in that park at night were noticeably higher. \n",
    "\n",
    "Overall, for someone planning a trip to Disney World and wants to minimize the amount they wait in line for rides, these factors would certainly be helpful to consider. "
   ]
  },
  {
   "cell_type": "markdown",
   "metadata": {},
   "source": [
    "## II. Data Description"
   ]
  },
  {
   "cell_type": "markdown",
   "metadata": {},
   "source": [
    "The datasets I will be using for my analyes are `metadata_final`, `mk_final`, `ep_final`, `hs_final`, and `ak_final`. "
   ]
  },
  {
   "cell_type": "markdown",
   "metadata": {},
   "source": [
    "#### 1. What are the observations (rows) and attributes (columns)?"
   ]
  },
  {
   "cell_type": "markdown",
   "metadata": {},
   "source": [
    " - `metadata_final`: The observations are the dates that Walt Disney World was open from 1/1/2015 until 12/30/2019. The attributes include:\n",
    "     - `DAYOFWEEK`: The number day of the week (1: Sunday to 7: Saturday)\n",
    "     - `DAYOFYEAR`: The number day of the year (0 to 365) \n",
    "     - `WEEKOFYEAR`: The number week of the year (0 to 53)\n",
    "     - `MONTHOFYEAR`: The number month of the year (1 to 12)\n",
    "     - `SEASON`: The seasonal category (Fall, Winter, Thanksgiving, etc.)\n",
    "     - `HOLIDAYN`: The name of the Holiday (NaN is not a Holiday)\n",
    "     - `HOLIDAY`: If the day is a Holiday or not (0 or 1)\n",
    "     - `WDWMEANTEMP`: The average daily temperature of WDW\n",
    "     - `inSession`: The percentage of schools in session\n",
    "     - `WEATHER_WDWPRECIP`: The historial precipitation in inches\n",
    "     \n",
    "     \n",
    " - `mk_final`: The observations are every hour of every day that the Magic Kingdom was open from 1/1/2015 to 12/30/2019. The attributes include:\n",
    "     - `DT_wait_time`: The hourly average wait time for Seven Dwarfs Mine Train (NaN if ride was closed or did not report wait time)\n",
    "     - `POC_wait_time`: The hourly average wait time for Pirates of the Caribbean (NaN if ride was closed or did not report wait time)\n",
    "     - `SM_wait_time`: The hourly average wait time for Splash Mountain (NaN if ride was closed or did not report wait time)\n",
    "     \n",
    "     \n",
    " - `ep_final`: The observations are every hour of every day that EPCOT was open from 1/1/2015 to 12/30/2019. The attributes include:\n",
    "     - `S_wait_time`: The hourly average wait time for Soarin' (NaN if ride was closed or did not report wait time)\n",
    "     - `SE_wait_time`: The hourly average wait time for Spaceship Earth (NaN if ride was closed or did not report wait time)\n",
    "     \n",
    "     \n",
    " - `hs_final`: The observations are every hour of every day that Hollywood Studios was open from 1/1/2015 to 12/30/2019. The attributes include:\n",
    "     - `RNR_wait_time`: The hourly average wait time for Rock 'n' Roller Coaster (NaN if ride was closed or did not report wait time)\n",
    "     - `TSM_wait_time`: The hourly average wait time for Toy Story Mania! (NaN if ride was closed or did not report wait time)\n",
    "     \n",
    "     \n",
    " - `ak_final`: The observations are every hour of every day that the Animal Kingdom was open from 1/1/2015 to 12/30/2019. The attributes include:\n",
    "     - `D_wait_time`: The hourly average wait time for DINOSAUR (NaN if ride was closed or did not report wait time)\n",
    "     - `EE_wait_time`: The hourly average wait time for Expedition Everest (NaN if ride was closed or did not report wait time)\n",
    "     - `KS_wait_time`: The hourly average wait time for Kilimanjaro Safaris (NaN if ride was closed or did not report wait time)"
   ]
  },
  {
   "cell_type": "markdown",
   "metadata": {},
   "source": [
    "#### 2. Why was this dataset created?"
   ]
  },
  {
   "cell_type": "markdown",
   "metadata": {},
   "source": [
    "This dataset was created to analyze and predict when Disney World is the most crowded using the wait times for key attractions in each park. The datasets were made available to the public in June of 2018. "
   ]
  },
  {
   "cell_type": "markdown",
   "metadata": {},
   "source": [
    "#### 3. Who funded the creation of the dataset?"
   ]
  },
  {
   "cell_type": "markdown",
   "metadata": {},
   "source": [
    "I am assuming that the creation of the dataset was funded by *TouringPlans.com* which is where I found the dataset."
   ]
  },
  {
   "cell_type": "markdown",
   "metadata": {},
   "source": [
    "#### 4. Is any information missing from individual instances?"
   ]
  },
  {
   "cell_type": "markdown",
   "metadata": {},
   "source": [
    "Some instances are missing wait times for specific hours or days. This is the wait time was not reported or the ride was closed during that time. "
   ]
  },
  {
   "cell_type": "markdown",
   "metadata": {},
   "source": [
    "#### 5. How was the data associated with each instance acquired?"
   ]
  },
  {
   "cell_type": "markdown",
   "metadata": {},
   "source": [
    "I am not exactly sure how the wait time data was acquired. Disney likely has the wait times posted consistently throughout each day. "
   ]
  },
  {
   "cell_type": "markdown",
   "metadata": {},
   "source": [
    "#### 6. Over what timeframe was the data collected?"
   ]
  },
  {
   "cell_type": "markdown",
   "metadata": {},
   "source": [
    "The data I am using was collected from 1/1/2015 until 12/30/2019. "
   ]
  },
  {
   "cell_type": "markdown",
   "metadata": {},
   "source": [
    "#### 7. What processes might have influenced what data was observed and recorded and what was not?"
   ]
  },
  {
   "cell_type": "markdown",
   "metadata": {},
   "source": [
    "Because I don't know exactly how the data was acquired it is hard to say what processes might have influenced what data was observed and recorded and what was not."
   ]
  },
  {
   "cell_type": "markdown",
   "metadata": {},
   "source": [
    "#### 8. What preprocessing was done, and how did the data come to be in the form that you are using?"
   ]
  },
  {
   "cell_type": "markdown",
   "metadata": {},
   "source": [
    "I don't know what preprocessing was done to get the raw data sets to where they are. My data cleaning process is documented above in my Phase 2 notebook which can be found linked at the bottom of this notebook or on my Github repository.  "
   ]
  },
  {
   "cell_type": "markdown",
   "metadata": {},
   "source": [
    "#### 9. If people are involved, were they aware of the data collection and if so, what purpose did they expect the data to be used for?"
   ]
  },
  {
   "cell_type": "markdown",
   "metadata": {},
   "source": [
    "The data does is not associated with any individual person's data. "
   ]
  },
  {
   "cell_type": "markdown",
   "metadata": {},
   "source": [
    "#### 10. Where can your raw data source be found, if applicable? Provide a link to the raw data?"
   ]
  },
  {
   "cell_type": "markdown",
   "metadata": {},
   "source": [
    "I found the datasets at the following link: https://touringplans.com/blog/2018/06/25/disney-world-wait-times-available-for-data-science-and-machine-learning/. The .csv files for each attraction and the metadada can be found inside the data dictionary file (touringplans_data_dictionary.xlsx). "
   ]
  },
  {
   "cell_type": "markdown",
   "metadata": {},
   "source": [
    "#### 11. Has the dataset been used for any tasks already?"
   ]
  },
  {
   "cell_type": "markdown",
   "metadata": {},
   "source": [
    "The raw dataset has been used to determine the crowd levels at the different Disney World parks. There are crowd levels for every day of the year and certain hours during those days. The raw data has also been used to predict crowd levels and seems to be pretty accurate. To address the obvious, these crowd levels are definitely different nowadays given capacity limits due to COVID-19 regulations."
   ]
  },
  {
   "cell_type": "markdown",
   "metadata": {},
   "source": [
    "## III. Preregistration Statement"
   ]
  },
  {
   "cell_type": "markdown",
   "metadata": {},
   "source": [
    "#### Analysis 1:\n",
    "\n",
    "The first analyis that I vow to present in my final report is if the day of the week is predictive of the daily average wait time for each individual ride and the parks overall. "
   ]
  },
  {
   "cell_type": "markdown",
   "metadata": {},
   "source": [
    "#### Analysis 2:\n",
    "\n",
    "The second analysis I vow to present is if the `inSession` variable, which represents the percentage of schools in session, is predictive of the daily average wait time for each individual ride and the parks overall. "
   ]
  },
  {
   "cell_type": "markdown",
   "metadata": {},
   "source": [
    "## IV. Data Analysis"
   ]
  },
  {
   "cell_type": "markdown",
   "metadata": {},
   "source": [
    "#### Import needed packages"
   ]
  },
  {
   "cell_type": "code",
   "execution_count": 46,
   "metadata": {},
   "outputs": [],
   "source": [
    "import pandas as pd\n",
    "import numpy as np\n",
    "import matplotlib.pyplot as plt\n",
    "import seaborn as sns\n",
    "from sklearn.linear_model import LinearRegression\n",
    "from scipy import stats\n",
    "import statsmodels.formula.api as smf"
   ]
  },
  {
   "cell_type": "markdown",
   "metadata": {},
   "source": [
    "#### Import datasets"
   ]
  },
  {
   "cell_type": "code",
   "execution_count": 2,
   "metadata": {},
   "outputs": [],
   "source": [
    "metadata_final = pd.read_csv('metadata_final.csv')\n",
    "mk_final = pd.read_csv('mk_final.csv')\n",
    "ep_final = pd.read_csv('ep_final.csv')\n",
    "hs_final = pd.read_csv('hs_final.csv')\n",
    "ak_final = pd.read_csv('ak_final.csv')"
   ]
  },
  {
   "cell_type": "markdown",
   "metadata": {},
   "source": [
    "**To get an idea of which of the 10 attractions is the most popular, I calculated the mean value of the average hourly wait time for each attraction below.**"
   ]
  },
  {
   "cell_type": "code",
   "execution_count": 3,
   "metadata": {},
   "outputs": [
    {
     "name": "stdout",
     "output_type": "stream",
     "text": [
      "Seven Dwarfs Mine Train: 86.24 minutes\n",
      "Pirates of the Caribbean: 29.01 minutes\n",
      "Splash Mountain: 46.71 minutes\n",
      "Soarin': 50.94 minutes\n",
      "Spaceship Earth: 20.13 minutes\n",
      "Rock 'n' Roller Coaster: 65.32 minutes\n",
      "Toy Story Mania!: 62.29 minutes\n",
      "DINOSAUR: 29.31 minutes\n",
      "Expedition Everest: 36.21 minutes\n",
      "Kilimanjaro Safaris: 42.72 minutes\n"
     ]
    }
   ],
   "source": [
    "mk_means = mk_final[['DT_wait_time', 'POC_wait_time', 'SM_wait_time']].mean().round(2)\n",
    "ep_means = ep_final[['S_wait_time', 'SE_wait_time']].mean().round(2)\n",
    "hs_means = hs_final[['RNR_wait_time', 'TSM_wait_time']].mean().round(2)\n",
    "ak_means = ak_final[['D_wait_time', 'EE_wait_time', 'KS_wait_time']].mean().round(2)\n",
    "\n",
    "print(\"Seven Dwarfs Mine Train: {} minutes\".format(mk_means[0]))\n",
    "print(\"Pirates of the Caribbean: {} minutes\".format(mk_means[1]))\n",
    "print(\"Splash Mountain: {} minutes\".format(mk_means[2]))\n",
    "print(\"Soarin': {} minutes\".format(ep_means[0]))\n",
    "print(\"Spaceship Earth: {} minutes\".format(ep_means[1]))\n",
    "print(\"Rock 'n' Roller Coaster: {} minutes\".format(hs_means[0]))\n",
    "print(\"Toy Story Mania!: {} minutes\".format(hs_means[1]))\n",
    "print(\"DINOSAUR: {} minutes\".format(ak_means[0]))\n",
    "print(\"Expedition Everest: {} minutes\".format(ak_means[1]))\n",
    "print(\"Kilimanjaro Safaris: {} minutes\".format(ak_means[2]))"
   ]
  },
  {
   "cell_type": "markdown",
   "metadata": {},
   "source": [
    "Based on the mean values above, out of the 10 rides analyzed, the Seven Dwarfs Mine Train looks to have the highest hourly wait times. "
   ]
  },
  {
   "cell_type": "markdown",
   "metadata": {},
   "source": [
    "**To see how the popularity of these rides changed over the 5 years analyzed, I compare the mean values of the average hourly wait times for each attraction in 2015 to 2019.**"
   ]
  },
  {
   "cell_type": "code",
   "execution_count": 4,
   "metadata": {},
   "outputs": [
    {
     "name": "stdout",
     "output_type": "stream",
     "text": [
      "Seven Dwarfs Mine Train: 82.82 (2015) --> 86.78 (2019)\n",
      "Pirates of the Caribbean: 23.74 (2015) --> 29.23 (2019)\n",
      "Splash Mountain: 40.6 (2015) --> 47.4 (2019)\n",
      "Soarin': 61.25 (2015) --> 49.63 (2019)\n",
      "Spaceship Earth: 17.39 (2015) --> 20.22 (2019)\n",
      "Rock 'n' Roller Coaster: 57.72 (2015) --> 66.01 (2019)\n",
      "Toy Story Mania!: 70.77 (2015) --> 61.69 (2019)\n",
      "DINOSAUR: 19.68 (2015) --> 29.95 (2019)\n",
      "Expedition Everest: 26.71 (2015) --> 36.75 (2019)\n",
      "Kilimanjaro Safaris: 26.85 (2015) --> 43.58 (2019)\n"
     ]
    }
   ],
   "source": [
    "# Separate data into year 2015 and 2019\n",
    "mk2015 = mk_final[:365]\n",
    "mk2019 = mk_final[1458:]\n",
    "\n",
    "ep2015 = ep_final[:365]\n",
    "ep2019 = ep_final[1458:]\n",
    "\n",
    "hs2015 = hs_final[:365]\n",
    "hs2019 = hs_final[1458:]\n",
    "\n",
    "ak2015 = ak_final[:365]\n",
    "ak2019 = ak_final[1458:]\n",
    "\n",
    "mk_means15 = mk2015[['DT_wait_time', 'POC_wait_time', 'SM_wait_time']].mean().round(2)\n",
    "mk_means19 = mk2019[['DT_wait_time', 'POC_wait_time', 'SM_wait_time']].mean().round(2)\n",
    "ep_means15 = ep2015[['S_wait_time', 'SE_wait_time']].mean().round(2)\n",
    "ep_means19 = ep2019[['S_wait_time', 'SE_wait_time']].mean().round(2)\n",
    "hs_means15 = hs2015[['RNR_wait_time', 'TSM_wait_time']].mean().round(2)\n",
    "hs_means19 = hs2019[['RNR_wait_time', 'TSM_wait_time']].mean().round(2)\n",
    "ak_means15 = ak2015[['D_wait_time', 'EE_wait_time', 'KS_wait_time']].mean().round(2)\n",
    "ak_means19 = ak2019[['D_wait_time', 'EE_wait_time', 'KS_wait_time']].mean().round(2)\n",
    "\n",
    "print(\"Seven Dwarfs Mine Train: {} (2015) --> {} (2019)\".format(mk_means15[0], mk_means19[0]))\n",
    "print(\"Pirates of the Caribbean: {} (2015) --> {} (2019)\".format(mk_means15[1], mk_means19[1]))\n",
    "print(\"Splash Mountain: {} (2015) --> {} (2019)\".format(mk_means15[2], mk_means19[2]))\n",
    "print(\"Soarin': {} (2015) --> {} (2019)\".format(ep_means15[0], ep_means19[0]))\n",
    "print(\"Spaceship Earth: {} (2015) --> {} (2019)\".format(ep_means15[1], ep_means19[1]))\n",
    "print(\"Rock 'n' Roller Coaster: {} (2015) --> {} (2019)\".format(hs_means15[0], hs_means19[0]))\n",
    "print(\"Toy Story Mania!: {} (2015) --> {} (2019)\".format(hs_means15[1], hs_means19[1]))\n",
    "print(\"DINOSAUR: {} (2015) --> {} (2019)\".format(ak_means15[0], ak_means19[0]))\n",
    "print(\"Expedition Everest: {} (2015) --> {} (2019)\".format(ak_means15[1], ak_means19[1]))\n",
    "print(\"Kilimanjaro Safaris: {} (2015) --> {} (2019)\".format(ak_means15[2], ak_means19[2]))"
   ]
  },
  {
   "cell_type": "markdown",
   "metadata": {},
   "source": [
    "Apart from Soarin' and Toy Story Mania!, the mean values of the average hourly wait time for each attraction increased from 2015 to 2019. "
   ]
  },
  {
   "cell_type": "markdown",
   "metadata": {},
   "source": [
    "#### Research Question #1: What time of day is most popular for certain rides? "
   ]
  },
  {
   "cell_type": "code",
   "execution_count": 5,
   "metadata": {},
   "outputs": [
    {
     "data": {
      "image/png": "[encoded data removed]",
      "text/plain": [
       "<Figure size 432x288 with 1 Axes>"
      ]
     },
     "metadata": {
      "needs_background": "light"
     },
     "output_type": "display_data"
    }
   ],
   "source": [
    "# Group wait time data by hour\n",
    "mk_hourly = mk_final.groupby('hour_of_day').mean()\n",
    "\n",
    "# Line plot per day to show hours\n",
    "plt.plot(mk_hourly)\n",
    "plt.legend(labels=('Seven Dwarfs Mine Train', 'Pirates of the Caribbean', 'Splash Mountain'))\n",
    "plt.xlabel('Hour of Day')\n",
    "plt.ylabel('Wait Time (min)')\n",
    "plt.title('Magic Kingdom Rides')\n",
    "plt.show()"
   ]
  },
  {
   "cell_type": "markdown",
   "metadata": {},
   "source": [
    "For all three rides in the Magic Kingdom, the wait times are higher throughout the entire afternoon. They all look to reach their peak wait time at 1:00pm or 2:00pm.  "
   ]
  },
  {
   "cell_type": "code",
   "execution_count": 6,
   "metadata": {},
   "outputs": [
    {
     "data": {
      "image/png": "[encoded data removed]",
      "text/plain": [
       "<Figure size 432x288 with 1 Axes>"
      ]
     },
     "metadata": {
      "needs_background": "light"
     },
     "output_type": "display_data"
    }
   ],
   "source": [
    "# Group wait time data by hour\n",
    "ep_hourly = ep_final.groupby('hour_of_day').mean()\n",
    "\n",
    "# Line plot per day to show hours\n",
    "plt.plot(ep_hourly)\n",
    "plt.legend(labels=(\"Soarin'\", 'Spaceship Earth'))\n",
    "plt.xlabel('Hour of Day')\n",
    "plt.ylabel('Wait Time (min)')\n",
    "plt.title('EPCOT Rides')\n",
    "plt.show()"
   ]
  },
  {
   "cell_type": "markdown",
   "metadata": {},
   "source": [
    "The hourly wait times for Soarin' and Spacehship Earth in EPCOT have a similar pattern. The wait times increase in the morning and then hit their first high at 11:00am. Then, the wait times slowly decrease as the hours go on, until jumping up dramatically at 10:00pm. "
   ]
  },
  {
   "cell_type": "code",
   "execution_count": 7,
   "metadata": {},
   "outputs": [
    {
     "data": {
      "image/png": "[encoded data removed]",
      "text/plain": [
       "<Figure size 432x288 with 1 Axes>"
      ]
     },
     "metadata": {
      "needs_background": "light"
     },
     "output_type": "display_data"
    }
   ],
   "source": [
    "# Group wait time data by hour\n",
    "hs_hourly = hs_final.groupby('hour_of_day').mean()\n",
    "\n",
    "# Line plot per day to show hours\n",
    "plt.plot(hs_hourly)\n",
    "plt.legend(labels=(\"Rock 'n' Roller Coaster\", 'Toy Story Mania!'))\n",
    "plt.xlabel('Hour of Day')\n",
    "plt.ylabel('Wait Time (min)')\n",
    "plt.title('Hollywood Studios Rides')\n",
    "plt.show()"
   ]
  },
  {
   "cell_type": "markdown",
   "metadata": {},
   "source": [
    "Once again, the wait times for both rides in Hollywood Studies follow a similar pattern throughout the day. The wait times remain high during the middle of the day, drop as it hits dinner and night time, and then jump up again at 10:00pm. Rock 'n' Roller Coaster reaches it maximum wait time at 11:00am and Toy Story Mania! reaches it maximum wait time at 2:00pm. "
   ]
  },
  {
   "cell_type": "code",
   "execution_count": 8,
   "metadata": {},
   "outputs": [
    {
     "data": {
      "image/png": "[encoded data removed]",
      "text/plain": [
       "<Figure size 432x288 with 1 Axes>"
      ]
     },
     "metadata": {
      "needs_background": "light"
     },
     "output_type": "display_data"
    }
   ],
   "source": [
    "# Group wait time data by hour\n",
    "ak_hourly = ak_final.groupby('hour_of_day').mean()\n",
    "\n",
    "# Line plot per day to show hours\n",
    "plt.plot(ak_hourly)\n",
    "plt.legend(labels=('DINOSAUR', 'Expedition Everest', 'Kilimanjaro Safaris'))\n",
    "plt.xlabel('Hour of Day')\n",
    "plt.ylabel('Wait Time (min)')\n",
    "plt.title('Animal Kingdom Rides')\n",
    "plt.show()"
   ]
  },
  {
   "cell_type": "markdown",
   "metadata": {},
   "source": [
    "The wait times for these three rides in Animal Kingdom follow a similar pattern that is quite different from the three other parks. They reach their maximum wait times around 10:00 or 11:00am and then decrease for the remainder of the day. "
   ]
  },
  {
   "cell_type": "markdown",
   "metadata": {},
   "source": [
    "**Research Question #2a: What effect does day of the week have on the wait time for each ride?**"
   ]
  },
  {
   "cell_type": "markdown",
   "metadata": {},
   "source": [
    "To make daily analysis more feasible, I need to get the mean hourly average wait for every day. Then, I merge data sets and get the daily mean hourly average wait for each day of the week. "
   ]
  },
  {
   "cell_type": "code",
   "execution_count": 63,
   "metadata": {},
   "outputs": [
    {
     "data": {
      "text/html": [
       "<div>\n",
       "<style scoped>\n",
       "    .dataframe tbody tr th:only-of-type {\n",
       "        vertical-align: middle;\n",
       "    }\n",
       "\n",
       "    .dataframe tbody tr th {\n",
       "        vertical-align: top;\n",
       "    }\n",
       "\n",
       "    .dataframe thead th {\n",
       "        text-align: right;\n",
       "    }\n",
       "</style>\n",
       "<table border=\"1\" class=\"dataframe\">\n",
       "  <thead>\n",
       "    <tr style=\"text-align: right;\">\n",
       "      <th></th>\n",
       "      <th>DT_wait_time</th>\n",
       "      <th>POC_wait_time</th>\n",
       "      <th>SM_wait_time</th>\n",
       "    </tr>\n",
       "    <tr>\n",
       "      <th>DAYOFWEEK</th>\n",
       "      <th></th>\n",
       "      <th></th>\n",
       "      <th></th>\n",
       "    </tr>\n",
       "  </thead>\n",
       "  <tbody>\n",
       "    <tr>\n",
       "      <th>1</th>\n",
       "      <td>81.525134</td>\n",
       "      <td>26.141053</td>\n",
       "      <td>40.835508</td>\n",
       "    </tr>\n",
       "    <tr>\n",
       "      <th>2</th>\n",
       "      <td>89.083660</td>\n",
       "      <td>31.262866</td>\n",
       "      <td>49.181650</td>\n",
       "    </tr>\n",
       "    <tr>\n",
       "      <th>3</th>\n",
       "      <td>83.397531</td>\n",
       "      <td>27.608786</td>\n",
       "      <td>44.861667</td>\n",
       "    </tr>\n",
       "    <tr>\n",
       "      <th>4</th>\n",
       "      <td>88.607564</td>\n",
       "      <td>30.154341</td>\n",
       "      <td>50.164131</td>\n",
       "    </tr>\n",
       "    <tr>\n",
       "      <th>5</th>\n",
       "      <td>81.486158</td>\n",
       "      <td>26.192068</td>\n",
       "      <td>44.848529</td>\n",
       "    </tr>\n",
       "    <tr>\n",
       "      <th>6</th>\n",
       "      <td>81.251458</td>\n",
       "      <td>27.275298</td>\n",
       "      <td>44.765861</td>\n",
       "    </tr>\n",
       "    <tr>\n",
       "      <th>7</th>\n",
       "      <td>90.633761</td>\n",
       "      <td>31.459707</td>\n",
       "      <td>45.896189</td>\n",
       "    </tr>\n",
       "  </tbody>\n",
       "</table>\n",
       "</div>"
      ],
      "text/plain": [
       "           DT_wait_time  POC_wait_time  SM_wait_time\n",
       "DAYOFWEEK                                           \n",
       "1             81.525134      26.141053     40.835508\n",
       "2             89.083660      31.262866     49.181650\n",
       "3             83.397531      27.608786     44.861667\n",
       "4             88.607564      30.154341     50.164131\n",
       "5             81.486158      26.192068     44.848529\n",
       "6             81.251458      27.275298     44.765861\n",
       "7             90.633761      31.459707     45.896189"
      ]
     },
     "execution_count": 63,
     "metadata": {},
     "output_type": "execute_result"
    }
   ],
   "source": [
    "mk_daily_avg = mk_final.groupby('date').mean().drop('hour_of_day', axis=1)\n",
    "mk_weekday = pd.merge(mk_daily_avg, metadata_final[['date','DAYOFWEEK']],on='date')\n",
    "mk_weekday_means = mk_weekday.groupby('DAYOFWEEK').mean()\n",
    "mk_weekday_means"
   ]
  },
  {
   "cell_type": "code",
   "execution_count": 64,
   "metadata": {},
   "outputs": [
    {
     "data": {
      "image/png": "[encoded data removed]",
      "text/plain": [
       "<Figure size 432x288 with 1 Axes>"
      ]
     },
     "metadata": {
      "needs_background": "light"
     },
     "output_type": "display_data"
    }
   ],
   "source": [
    "mk_weekday_means.reset_index().plot(x='DAYOFWEEK', y=['DT_wait_time', 'POC_wait_time', 'SM_wait_time'], kind='bar')\n",
    "plt.title('Magic Kingdom Rides')\n",
    "plt.show()"
   ]
  },
  {
   "cell_type": "markdown",
   "metadata": {},
   "source": [
    "As one can see from the data and the chart, there is not a huge difference between the daily average hourly wait time for each day of the week. However, based on the numbers above, the Seven Dwarfs Train Ride and Pirates of the Caribbean have the highest wait times on Saturday while Splash Mountain has the highest wait times on Wednesday. "
   ]
  },
  {
   "cell_type": "code",
   "execution_count": 65,
   "metadata": {},
   "outputs": [
    {
     "data": {
      "text/html": [
       "<div>\n",
       "<style scoped>\n",
       "    .dataframe tbody tr th:only-of-type {\n",
       "        vertical-align: middle;\n",
       "    }\n",
       "\n",
       "    .dataframe tbody tr th {\n",
       "        vertical-align: top;\n",
       "    }\n",
       "\n",
       "    .dataframe thead th {\n",
       "        text-align: right;\n",
       "    }\n",
       "</style>\n",
       "<table border=\"1\" class=\"dataframe\">\n",
       "  <thead>\n",
       "    <tr style=\"text-align: right;\">\n",
       "      <th></th>\n",
       "      <th>S_wait_time</th>\n",
       "      <th>SE_wait_time</th>\n",
       "    </tr>\n",
       "    <tr>\n",
       "      <th>DAYOFWEEK</th>\n",
       "      <th></th>\n",
       "      <th></th>\n",
       "    </tr>\n",
       "  </thead>\n",
       "  <tbody>\n",
       "    <tr>\n",
       "      <th>1</th>\n",
       "      <td>52.118846</td>\n",
       "      <td>20.266503</td>\n",
       "    </tr>\n",
       "    <tr>\n",
       "      <th>2</th>\n",
       "      <td>52.192683</td>\n",
       "      <td>20.781274</td>\n",
       "    </tr>\n",
       "    <tr>\n",
       "      <th>3</th>\n",
       "      <td>55.213125</td>\n",
       "      <td>22.341983</td>\n",
       "    </tr>\n",
       "    <tr>\n",
       "      <th>4</th>\n",
       "      <td>46.224813</td>\n",
       "      <td>18.003204</td>\n",
       "    </tr>\n",
       "    <tr>\n",
       "      <th>5</th>\n",
       "      <td>47.390891</td>\n",
       "      <td>18.870313</td>\n",
       "    </tr>\n",
       "    <tr>\n",
       "      <th>6</th>\n",
       "      <td>49.778728</td>\n",
       "      <td>18.713371</td>\n",
       "    </tr>\n",
       "    <tr>\n",
       "      <th>7</th>\n",
       "      <td>53.844577</td>\n",
       "      <td>21.723361</td>\n",
       "    </tr>\n",
       "  </tbody>\n",
       "</table>\n",
       "</div>"
      ],
      "text/plain": [
       "           S_wait_time  SE_wait_time\n",
       "DAYOFWEEK                           \n",
       "1            52.118846     20.266503\n",
       "2            52.192683     20.781274\n",
       "3            55.213125     22.341983\n",
       "4            46.224813     18.003204\n",
       "5            47.390891     18.870313\n",
       "6            49.778728     18.713371\n",
       "7            53.844577     21.723361"
      ]
     },
     "execution_count": 65,
     "metadata": {},
     "output_type": "execute_result"
    }
   ],
   "source": [
    "ep_daily_avg = ep_final.groupby('date').mean().drop('hour_of_day', axis=1)\n",
    "ep_weekday = pd.merge(ep_daily_avg, metadata_final[['date','DAYOFWEEK']],on='date')\n",
    "ep_weekday_means = ep_weekday.groupby('DAYOFWEEK').mean()\n",
    "ep_weekday_means"
   ]
  },
  {
   "cell_type": "code",
   "execution_count": 66,
   "metadata": {},
   "outputs": [
    {
     "data": {
      "image/png": "[encoded data removed]",
      "text/plain": [
       "<Figure size 432x288 with 1 Axes>"
      ]
     },
     "metadata": {
      "needs_background": "light"
     },
     "output_type": "display_data"
    }
   ],
   "source": [
    "ep_weekday_means.reset_index().plot(x='DAYOFWEEK', y=['S_wait_time', 'SE_wait_time'], kind='bar')\n",
    "plt.title('EPCOT Rides')\n",
    "plt.show()"
   ]
  },
  {
   "cell_type": "markdown",
   "metadata": {},
   "source": [
    "For both rides in EPCOT, Tuesday has the highest daily average hourly wait times while Wednesday has the lowest daily average hourly wait times. "
   ]
  },
  {
   "cell_type": "code",
   "execution_count": 67,
   "metadata": {},
   "outputs": [
    {
     "data": {
      "text/html": [
       "<div>\n",
       "<style scoped>\n",
       "    .dataframe tbody tr th:only-of-type {\n",
       "        vertical-align: middle;\n",
       "    }\n",
       "\n",
       "    .dataframe tbody tr th {\n",
       "        vertical-align: top;\n",
       "    }\n",
       "\n",
       "    .dataframe thead th {\n",
       "        text-align: right;\n",
       "    }\n",
       "</style>\n",
       "<table border=\"1\" class=\"dataframe\">\n",
       "  <thead>\n",
       "    <tr style=\"text-align: right;\">\n",
       "      <th></th>\n",
       "      <th>RNR_wait_time</th>\n",
       "      <th>TSM_wait_time</th>\n",
       "    </tr>\n",
       "    <tr>\n",
       "      <th>DAYOFWEEK</th>\n",
       "      <th></th>\n",
       "      <th></th>\n",
       "    </tr>\n",
       "  </thead>\n",
       "  <tbody>\n",
       "    <tr>\n",
       "      <th>1</th>\n",
       "      <td>69.142336</td>\n",
       "      <td>65.574848</td>\n",
       "    </tr>\n",
       "    <tr>\n",
       "      <th>2</th>\n",
       "      <td>68.560759</td>\n",
       "      <td>68.622318</td>\n",
       "    </tr>\n",
       "    <tr>\n",
       "      <th>3</th>\n",
       "      <td>60.899681</td>\n",
       "      <td>61.366863</td>\n",
       "    </tr>\n",
       "    <tr>\n",
       "      <th>4</th>\n",
       "      <td>58.442441</td>\n",
       "      <td>58.290994</td>\n",
       "    </tr>\n",
       "    <tr>\n",
       "      <th>5</th>\n",
       "      <td>62.149919</td>\n",
       "      <td>58.936996</td>\n",
       "    </tr>\n",
       "    <tr>\n",
       "      <th>6</th>\n",
       "      <td>67.341326</td>\n",
       "      <td>61.513395</td>\n",
       "    </tr>\n",
       "    <tr>\n",
       "      <th>7</th>\n",
       "      <td>68.832107</td>\n",
       "      <td>62.740148</td>\n",
       "    </tr>\n",
       "  </tbody>\n",
       "</table>\n",
       "</div>"
      ],
      "text/plain": [
       "           RNR_wait_time  TSM_wait_time\n",
       "DAYOFWEEK                              \n",
       "1              69.142336      65.574848\n",
       "2              68.560759      68.622318\n",
       "3              60.899681      61.366863\n",
       "4              58.442441      58.290994\n",
       "5              62.149919      58.936996\n",
       "6              67.341326      61.513395\n",
       "7              68.832107      62.740148"
      ]
     },
     "execution_count": 67,
     "metadata": {},
     "output_type": "execute_result"
    }
   ],
   "source": [
    "hs_daily_avg = hs_final.groupby('date').mean().drop('hour_of_day', axis=1)\n",
    "hs_weekday = pd.merge(hs_daily_avg, metadata_final[['date','DAYOFWEEK']],on='date')\n",
    "hs_weekday_means = hs_weekday.groupby('DAYOFWEEK').mean()\n",
    "hs_weekday_means"
   ]
  },
  {
   "cell_type": "code",
   "execution_count": 68,
   "metadata": {},
   "outputs": [
    {
     "data": {
      "image/png": "[encoded data removed]",
      "text/plain": [
       "<Figure size 432x288 with 1 Axes>"
      ]
     },
     "metadata": {
      "needs_background": "light"
     },
     "output_type": "display_data"
    }
   ],
   "source": [
    "hs_weekday_means.reset_index().plot(x='DAYOFWEEK', y=['RNR_wait_time', 'TSM_wait_time'], kind='bar')\n",
    "plt.title('Hollywood Studios Rides')\n",
    "plt.show()"
   ]
  },
  {
   "cell_type": "markdown",
   "metadata": {},
   "source": [
    "For the rides in Hollywood Studios, we see a different pattern. Rock 'n' Roller Coaster has the highest daily average wait times on Sunday and the lowest on Wednesday. Toy Story Mania! has the highest daily average wait times on Tuesday and the lowest on Wednesday. "
   ]
  },
  {
   "cell_type": "code",
   "execution_count": 69,
   "metadata": {},
   "outputs": [
    {
     "data": {
      "text/html": [
       "<div>\n",
       "<style scoped>\n",
       "    .dataframe tbody tr th:only-of-type {\n",
       "        vertical-align: middle;\n",
       "    }\n",
       "\n",
       "    .dataframe tbody tr th {\n",
       "        vertical-align: top;\n",
       "    }\n",
       "\n",
       "    .dataframe thead th {\n",
       "        text-align: right;\n",
       "    }\n",
       "</style>\n",
       "<table border=\"1\" class=\"dataframe\">\n",
       "  <thead>\n",
       "    <tr style=\"text-align: right;\">\n",
       "      <th></th>\n",
       "      <th>D_wait_time</th>\n",
       "      <th>EE_wait_time</th>\n",
       "      <th>KS_wait_time</th>\n",
       "    </tr>\n",
       "    <tr>\n",
       "      <th>DAYOFWEEK</th>\n",
       "      <th></th>\n",
       "      <th></th>\n",
       "      <th></th>\n",
       "    </tr>\n",
       "  </thead>\n",
       "  <tbody>\n",
       "    <tr>\n",
       "      <th>1</th>\n",
       "      <td>29.239961</td>\n",
       "      <td>37.549201</td>\n",
       "      <td>42.759754</td>\n",
       "    </tr>\n",
       "    <tr>\n",
       "      <th>2</th>\n",
       "      <td>31.937871</td>\n",
       "      <td>37.632231</td>\n",
       "      <td>45.012542</td>\n",
       "    </tr>\n",
       "    <tr>\n",
       "      <th>3</th>\n",
       "      <td>28.140336</td>\n",
       "      <td>32.515286</td>\n",
       "      <td>42.156026</td>\n",
       "    </tr>\n",
       "    <tr>\n",
       "      <th>4</th>\n",
       "      <td>26.044005</td>\n",
       "      <td>30.494448</td>\n",
       "      <td>38.065282</td>\n",
       "    </tr>\n",
       "    <tr>\n",
       "      <th>5</th>\n",
       "      <td>27.836056</td>\n",
       "      <td>33.694216</td>\n",
       "      <td>41.537737</td>\n",
       "    </tr>\n",
       "    <tr>\n",
       "      <th>6</th>\n",
       "      <td>27.796831</td>\n",
       "      <td>36.757759</td>\n",
       "      <td>41.861038</td>\n",
       "    </tr>\n",
       "    <tr>\n",
       "      <th>7</th>\n",
       "      <td>30.896792</td>\n",
       "      <td>41.846241</td>\n",
       "      <td>46.638563</td>\n",
       "    </tr>\n",
       "  </tbody>\n",
       "</table>\n",
       "</div>"
      ],
      "text/plain": [
       "           D_wait_time  EE_wait_time  KS_wait_time\n",
       "DAYOFWEEK                                         \n",
       "1            29.239961     37.549201     42.759754\n",
       "2            31.937871     37.632231     45.012542\n",
       "3            28.140336     32.515286     42.156026\n",
       "4            26.044005     30.494448     38.065282\n",
       "5            27.836056     33.694216     41.537737\n",
       "6            27.796831     36.757759     41.861038\n",
       "7            30.896792     41.846241     46.638563"
      ]
     },
     "execution_count": 69,
     "metadata": {},
     "output_type": "execute_result"
    }
   ],
   "source": [
    "ak_daily_avg = ak_final.groupby('date').mean().drop('hour_of_day', axis=1)\n",
    "ak_weekday = pd.merge(ak_daily_avg, metadata_final[['date','DAYOFWEEK']],on='date')\n",
    "ak_weekday_means = ak_weekday.groupby('DAYOFWEEK').mean()\n",
    "ak_weekday_means"
   ]
  },
  {
   "cell_type": "code",
   "execution_count": 70,
   "metadata": {},
   "outputs": [
    {
     "data": {
      "image/png": "[encoded data removed]",
      "text/plain": [
       "<Figure size 432x288 with 1 Axes>"
      ]
     },
     "metadata": {
      "needs_background": "light"
     },
     "output_type": "display_data"
    }
   ],
   "source": [
    "ak_weekday_means.reset_index().plot(x='DAYOFWEEK', y=['D_wait_time', 'EE_wait_time', 'KS_wait_time'], kind='bar')\n",
    "plt.title('Animal Kingdom Rides')\n",
    "plt.show()"
   ]
  },
  {
   "cell_type": "markdown",
   "metadata": {},
   "source": [
    "Finally, for the Animal Kingdom, there is a similar distribution for each of the three rides. Each of the three rides have the lowest daily average hourly wait times on Wednesday. Expedition Everest and Kilimanjaro Safaris have the highest daily average hourly wait times on Saturday while DINOSAUR has the highest daily average hourly wait times on Tuesday. "
   ]
  },
  {
   "cell_type": "markdown",
   "metadata": {},
   "source": [
    "**Research Question #2b: What month of the year is Disney World typically most crowded?**"
   ]
  },
  {
   "cell_type": "code",
   "execution_count": 71,
   "metadata": {},
   "outputs": [
    {
     "data": {
      "text/html": [
       "<div>\n",
       "<style scoped>\n",
       "    .dataframe tbody tr th:only-of-type {\n",
       "        vertical-align: middle;\n",
       "    }\n",
       "\n",
       "    .dataframe tbody tr th {\n",
       "        vertical-align: top;\n",
       "    }\n",
       "\n",
       "    .dataframe thead th {\n",
       "        text-align: right;\n",
       "    }\n",
       "</style>\n",
       "<table border=\"1\" class=\"dataframe\">\n",
       "  <thead>\n",
       "    <tr style=\"text-align: right;\">\n",
       "      <th></th>\n",
       "      <th>DT_wait_time</th>\n",
       "      <th>POC_wait_time</th>\n",
       "      <th>SM_wait_time</th>\n",
       "    </tr>\n",
       "    <tr>\n",
       "      <th>MONTHOFYEAR</th>\n",
       "      <th></th>\n",
       "      <th></th>\n",
       "      <th></th>\n",
       "    </tr>\n",
       "  </thead>\n",
       "  <tbody>\n",
       "    <tr>\n",
       "      <th>1</th>\n",
       "      <td>89.141282</td>\n",
       "      <td>27.568709</td>\n",
       "      <td>29.619683</td>\n",
       "    </tr>\n",
       "    <tr>\n",
       "      <th>2</th>\n",
       "      <td>88.072329</td>\n",
       "      <td>29.519282</td>\n",
       "      <td>38.198802</td>\n",
       "    </tr>\n",
       "    <tr>\n",
       "      <th>3</th>\n",
       "      <td>95.713752</td>\n",
       "      <td>33.726557</td>\n",
       "      <td>51.343526</td>\n",
       "    </tr>\n",
       "    <tr>\n",
       "      <th>4</th>\n",
       "      <td>86.770021</td>\n",
       "      <td>26.971910</td>\n",
       "      <td>50.686274</td>\n",
       "    </tr>\n",
       "    <tr>\n",
       "      <th>5</th>\n",
       "      <td>80.262600</td>\n",
       "      <td>26.643386</td>\n",
       "      <td>46.982638</td>\n",
       "    </tr>\n",
       "    <tr>\n",
       "      <th>6</th>\n",
       "      <td>88.910805</td>\n",
       "      <td>30.270243</td>\n",
       "      <td>57.345952</td>\n",
       "    </tr>\n",
       "    <tr>\n",
       "      <th>7</th>\n",
       "      <td>90.817197</td>\n",
       "      <td>29.592000</td>\n",
       "      <td>62.507902</td>\n",
       "    </tr>\n",
       "    <tr>\n",
       "      <th>8</th>\n",
       "      <td>83.824841</td>\n",
       "      <td>25.211696</td>\n",
       "      <td>54.167936</td>\n",
       "    </tr>\n",
       "    <tr>\n",
       "      <th>9</th>\n",
       "      <td>64.106395</td>\n",
       "      <td>21.432533</td>\n",
       "      <td>30.319093</td>\n",
       "    </tr>\n",
       "    <tr>\n",
       "      <th>10</th>\n",
       "      <td>77.122222</td>\n",
       "      <td>28.776284</td>\n",
       "      <td>39.831447</td>\n",
       "    </tr>\n",
       "    <tr>\n",
       "      <th>11</th>\n",
       "      <td>84.462350</td>\n",
       "      <td>29.785902</td>\n",
       "      <td>36.776442</td>\n",
       "    </tr>\n",
       "    <tr>\n",
       "      <th>12</th>\n",
       "      <td>91.956471</td>\n",
       "      <td>32.597299</td>\n",
       "      <td>39.832718</td>\n",
       "    </tr>\n",
       "  </tbody>\n",
       "</table>\n",
       "</div>"
      ],
      "text/plain": [
       "             DT_wait_time  POC_wait_time  SM_wait_time\n",
       "MONTHOFYEAR                                           \n",
       "1               89.141282      27.568709     29.619683\n",
       "2               88.072329      29.519282     38.198802\n",
       "3               95.713752      33.726557     51.343526\n",
       "4               86.770021      26.971910     50.686274\n",
       "5               80.262600      26.643386     46.982638\n",
       "6               88.910805      30.270243     57.345952\n",
       "7               90.817197      29.592000     62.507902\n",
       "8               83.824841      25.211696     54.167936\n",
       "9               64.106395      21.432533     30.319093\n",
       "10              77.122222      28.776284     39.831447\n",
       "11              84.462350      29.785902     36.776442\n",
       "12              91.956471      32.597299     39.832718"
      ]
     },
     "execution_count": 71,
     "metadata": {},
     "output_type": "execute_result"
    }
   ],
   "source": [
    "mk_month = pd.merge(mk_daily_avg, metadata_final[['date','MONTHOFYEAR']],on='date')\n",
    "mk_month_means = mk_month.groupby('MONTHOFYEAR').mean()\n",
    "mk_month_means"
   ]
  },
  {
   "cell_type": "code",
   "execution_count": 78,
   "metadata": {},
   "outputs": [
    {
     "data": {
      "image/png": "[encoded data removed]",
      "text/plain": [
       "<Figure size 432x288 with 1 Axes>"
      ]
     },
     "metadata": {
      "needs_background": "light"
     },
     "output_type": "display_data"
    }
   ],
   "source": [
    "mk_month_means.reset_index().plot(x='MONTHOFYEAR', y=['DT_wait_time', 'POC_wait_time', 'SM_wait_time'], kind='bar')\n",
    "plt.title('Magic Kingdom Rides')\n",
    "plt.show()"
   ]
  },
  {
   "cell_type": "markdown",
   "metadata": {},
   "source": [
    "In the Magic Kingdom, the Seven Dwarfs Train and Pirates of the Caribbean have the highest wait times in March. However, Splash Mountain has the highest wait times in July. This makes sense because it is a water ride that people enjoy most when it is warmer out. All three attractions have the lowest average wait times in September. "
   ]
  },
  {
   "cell_type": "code",
   "execution_count": 79,
   "metadata": {},
   "outputs": [
    {
     "data": {
      "text/html": [
       "<div>\n",
       "<style scoped>\n",
       "    .dataframe tbody tr th:only-of-type {\n",
       "        vertical-align: middle;\n",
       "    }\n",
       "\n",
       "    .dataframe tbody tr th {\n",
       "        vertical-align: top;\n",
       "    }\n",
       "\n",
       "    .dataframe thead th {\n",
       "        text-align: right;\n",
       "    }\n",
       "</style>\n",
       "<table border=\"1\" class=\"dataframe\">\n",
       "  <thead>\n",
       "    <tr style=\"text-align: right;\">\n",
       "      <th></th>\n",
       "      <th>S_wait_time</th>\n",
       "      <th>SE_wait_time</th>\n",
       "    </tr>\n",
       "    <tr>\n",
       "      <th>MONTHOFYEAR</th>\n",
       "      <th></th>\n",
       "      <th></th>\n",
       "    </tr>\n",
       "  </thead>\n",
       "  <tbody>\n",
       "    <tr>\n",
       "      <th>1</th>\n",
       "      <td>51.489526</td>\n",
       "      <td>18.536953</td>\n",
       "    </tr>\n",
       "    <tr>\n",
       "      <th>2</th>\n",
       "      <td>51.964898</td>\n",
       "      <td>20.294295</td>\n",
       "    </tr>\n",
       "    <tr>\n",
       "      <th>3</th>\n",
       "      <td>62.327781</td>\n",
       "      <td>25.312489</td>\n",
       "    </tr>\n",
       "    <tr>\n",
       "      <th>4</th>\n",
       "      <td>54.530896</td>\n",
       "      <td>21.395143</td>\n",
       "    </tr>\n",
       "    <tr>\n",
       "      <th>5</th>\n",
       "      <td>50.490034</td>\n",
       "      <td>19.327291</td>\n",
       "    </tr>\n",
       "    <tr>\n",
       "      <th>6</th>\n",
       "      <td>57.660200</td>\n",
       "      <td>19.610215</td>\n",
       "    </tr>\n",
       "    <tr>\n",
       "      <th>7</th>\n",
       "      <td>46.044080</td>\n",
       "      <td>18.254017</td>\n",
       "    </tr>\n",
       "    <tr>\n",
       "      <th>8</th>\n",
       "      <td>42.765883</td>\n",
       "      <td>16.556464</td>\n",
       "    </tr>\n",
       "    <tr>\n",
       "      <th>9</th>\n",
       "      <td>32.939344</td>\n",
       "      <td>13.721394</td>\n",
       "    </tr>\n",
       "    <tr>\n",
       "      <th>10</th>\n",
       "      <td>48.868834</td>\n",
       "      <td>19.545312</td>\n",
       "    </tr>\n",
       "    <tr>\n",
       "      <th>11</th>\n",
       "      <td>54.120246</td>\n",
       "      <td>21.921440</td>\n",
       "    </tr>\n",
       "    <tr>\n",
       "      <th>12</th>\n",
       "      <td>61.332816</td>\n",
       "      <td>26.579988</td>\n",
       "    </tr>\n",
       "  </tbody>\n",
       "</table>\n",
       "</div>"
      ],
      "text/plain": [
       "             S_wait_time  SE_wait_time\n",
       "MONTHOFYEAR                           \n",
       "1              51.489526     18.536953\n",
       "2              51.964898     20.294295\n",
       "3              62.327781     25.312489\n",
       "4              54.530896     21.395143\n",
       "5              50.490034     19.327291\n",
       "6              57.660200     19.610215\n",
       "7              46.044080     18.254017\n",
       "8              42.765883     16.556464\n",
       "9              32.939344     13.721394\n",
       "10             48.868834     19.545312\n",
       "11             54.120246     21.921440\n",
       "12             61.332816     26.579988"
      ]
     },
     "execution_count": 79,
     "metadata": {},
     "output_type": "execute_result"
    }
   ],
   "source": [
    "ep_month = pd.merge(ep_daily_avg, metadata_final[['date','MONTHOFYEAR']],on='date')\n",
    "ep_month_means = ep_month.groupby('MONTHOFYEAR').mean()\n",
    "ep_month_means"
   ]
  },
  {
   "cell_type": "code",
   "execution_count": 80,
   "metadata": {},
   "outputs": [
    {
     "data": {
      "image/png": "[encoded data removed]",
      "text/plain": [
       "<Figure size 432x288 with 1 Axes>"
      ]
     },
     "metadata": {
      "needs_background": "light"
     },
     "output_type": "display_data"
    }
   ],
   "source": [
    "ep_month_means.reset_index().plot(x='MONTHOFYEAR', y=['S_wait_time', 'SE_wait_time'], kind='bar')\n",
    "plt.title('EPCOT Rides')\n",
    "plt.show()"
   ]
  },
  {
   "cell_type": "markdown",
   "metadata": {},
   "source": [
    "Both rides in EPCOT have the highest wait times in March and December. Similar to the Magic Kingdom, both rides in EPCOT have the lowest average hourly wait times in September. "
   ]
  },
  {
   "cell_type": "code",
   "execution_count": 81,
   "metadata": {},
   "outputs": [
    {
     "data": {
      "text/html": [
       "<div>\n",
       "<style scoped>\n",
       "    .dataframe tbody tr th:only-of-type {\n",
       "        vertical-align: middle;\n",
       "    }\n",
       "\n",
       "    .dataframe tbody tr th {\n",
       "        vertical-align: top;\n",
       "    }\n",
       "\n",
       "    .dataframe thead th {\n",
       "        text-align: right;\n",
       "    }\n",
       "</style>\n",
       "<table border=\"1\" class=\"dataframe\">\n",
       "  <thead>\n",
       "    <tr style=\"text-align: right;\">\n",
       "      <th></th>\n",
       "      <th>RNR_wait_time</th>\n",
       "      <th>TSM_wait_time</th>\n",
       "    </tr>\n",
       "    <tr>\n",
       "      <th>MONTHOFYEAR</th>\n",
       "      <th></th>\n",
       "      <th></th>\n",
       "    </tr>\n",
       "  </thead>\n",
       "  <tbody>\n",
       "    <tr>\n",
       "      <th>1</th>\n",
       "      <td>65.420866</td>\n",
       "      <td>70.745916</td>\n",
       "    </tr>\n",
       "    <tr>\n",
       "      <th>2</th>\n",
       "      <td>64.015368</td>\n",
       "      <td>72.614179</td>\n",
       "    </tr>\n",
       "    <tr>\n",
       "      <th>3</th>\n",
       "      <td>80.743023</td>\n",
       "      <td>77.379598</td>\n",
       "    </tr>\n",
       "    <tr>\n",
       "      <th>4</th>\n",
       "      <td>63.594288</td>\n",
       "      <td>68.233813</td>\n",
       "    </tr>\n",
       "    <tr>\n",
       "      <th>5</th>\n",
       "      <td>61.958233</td>\n",
       "      <td>58.948132</td>\n",
       "    </tr>\n",
       "    <tr>\n",
       "      <th>6</th>\n",
       "      <td>71.420845</td>\n",
       "      <td>59.078451</td>\n",
       "    </tr>\n",
       "    <tr>\n",
       "      <th>7</th>\n",
       "      <td>70.542052</td>\n",
       "      <td>56.749634</td>\n",
       "    </tr>\n",
       "    <tr>\n",
       "      <th>8</th>\n",
       "      <td>59.756649</td>\n",
       "      <td>55.811802</td>\n",
       "    </tr>\n",
       "    <tr>\n",
       "      <th>9</th>\n",
       "      <td>40.556375</td>\n",
       "      <td>42.693271</td>\n",
       "    </tr>\n",
       "    <tr>\n",
       "      <th>10</th>\n",
       "      <td>60.331253</td>\n",
       "      <td>56.287713</td>\n",
       "    </tr>\n",
       "    <tr>\n",
       "      <th>11</th>\n",
       "      <td>65.534522</td>\n",
       "      <td>63.011895</td>\n",
       "    </tr>\n",
       "    <tr>\n",
       "      <th>12</th>\n",
       "      <td>75.488874</td>\n",
       "      <td>67.610354</td>\n",
       "    </tr>\n",
       "  </tbody>\n",
       "</table>\n",
       "</div>"
      ],
      "text/plain": [
       "             RNR_wait_time  TSM_wait_time\n",
       "MONTHOFYEAR                              \n",
       "1                65.420866      70.745916\n",
       "2                64.015368      72.614179\n",
       "3                80.743023      77.379598\n",
       "4                63.594288      68.233813\n",
       "5                61.958233      58.948132\n",
       "6                71.420845      59.078451\n",
       "7                70.542052      56.749634\n",
       "8                59.756649      55.811802\n",
       "9                40.556375      42.693271\n",
       "10               60.331253      56.287713\n",
       "11               65.534522      63.011895\n",
       "12               75.488874      67.610354"
      ]
     },
     "execution_count": 81,
     "metadata": {},
     "output_type": "execute_result"
    }
   ],
   "source": [
    "hs_month = pd.merge(hs_daily_avg, metadata_final[['date','MONTHOFYEAR']],on='date')\n",
    "hs_month_means = hs_month.groupby('MONTHOFYEAR').mean()\n",
    "hs_month_means"
   ]
  },
  {
   "cell_type": "code",
   "execution_count": 82,
   "metadata": {},
   "outputs": [
    {
     "data": {
      "image/png": "[encoded data removed]",
      "text/plain": [
       "<Figure size 432x288 with 1 Axes>"
      ]
     },
     "metadata": {
      "needs_background": "light"
     },
     "output_type": "display_data"
    }
   ],
   "source": [
    "hs_month_means.reset_index().plot(x='MONTHOFYEAR', y=['RNR_wait_time', 'TSM_wait_time'], kind='bar')\n",
    "plt.title('Hollywood Studios Rides')\n",
    "plt.show()"
   ]
  },
  {
   "cell_type": "markdown",
   "metadata": {},
   "source": [
    "Similar to EPCOT, both rides in Hollywood Studios have the highest wait times on average in March and by far the lowest wait times in September. "
   ]
  },
  {
   "cell_type": "code",
   "execution_count": 83,
   "metadata": {},
   "outputs": [
    {
     "data": {
      "text/html": [
       "<div>\n",
       "<style scoped>\n",
       "    .dataframe tbody tr th:only-of-type {\n",
       "        vertical-align: middle;\n",
       "    }\n",
       "\n",
       "    .dataframe tbody tr th {\n",
       "        vertical-align: top;\n",
       "    }\n",
       "\n",
       "    .dataframe thead th {\n",
       "        text-align: right;\n",
       "    }\n",
       "</style>\n",
       "<table border=\"1\" class=\"dataframe\">\n",
       "  <thead>\n",
       "    <tr style=\"text-align: right;\">\n",
       "      <th></th>\n",
       "      <th>D_wait_time</th>\n",
       "      <th>EE_wait_time</th>\n",
       "      <th>KS_wait_time</th>\n",
       "    </tr>\n",
       "    <tr>\n",
       "      <th>MONTHOFYEAR</th>\n",
       "      <th></th>\n",
       "      <th></th>\n",
       "      <th></th>\n",
       "    </tr>\n",
       "  </thead>\n",
       "  <tbody>\n",
       "    <tr>\n",
       "      <th>1</th>\n",
       "      <td>28.886721</td>\n",
       "      <td>37.110491</td>\n",
       "      <td>40.409941</td>\n",
       "    </tr>\n",
       "    <tr>\n",
       "      <th>2</th>\n",
       "      <td>29.310028</td>\n",
       "      <td>37.816829</td>\n",
       "      <td>48.298313</td>\n",
       "    </tr>\n",
       "    <tr>\n",
       "      <th>3</th>\n",
       "      <td>33.296683</td>\n",
       "      <td>44.422839</td>\n",
       "      <td>53.991041</td>\n",
       "    </tr>\n",
       "    <tr>\n",
       "      <th>4</th>\n",
       "      <td>28.760494</td>\n",
       "      <td>38.236419</td>\n",
       "      <td>47.069819</td>\n",
       "    </tr>\n",
       "    <tr>\n",
       "      <th>5</th>\n",
       "      <td>28.010166</td>\n",
       "      <td>36.143250</td>\n",
       "      <td>40.242803</td>\n",
       "    </tr>\n",
       "    <tr>\n",
       "      <th>6</th>\n",
       "      <td>28.968368</td>\n",
       "      <td>34.431147</td>\n",
       "      <td>41.422578</td>\n",
       "    </tr>\n",
       "    <tr>\n",
       "      <th>7</th>\n",
       "      <td>30.176123</td>\n",
       "      <td>35.328696</td>\n",
       "      <td>35.187192</td>\n",
       "    </tr>\n",
       "    <tr>\n",
       "      <th>8</th>\n",
       "      <td>28.603815</td>\n",
       "      <td>31.491752</td>\n",
       "      <td>33.189747</td>\n",
       "    </tr>\n",
       "    <tr>\n",
       "      <th>9</th>\n",
       "      <td>18.310327</td>\n",
       "      <td>20.580201</td>\n",
       "      <td>26.296133</td>\n",
       "    </tr>\n",
       "    <tr>\n",
       "      <th>10</th>\n",
       "      <td>26.348213</td>\n",
       "      <td>30.811574</td>\n",
       "      <td>41.543420</td>\n",
       "    </tr>\n",
       "    <tr>\n",
       "      <th>11</th>\n",
       "      <td>29.744664</td>\n",
       "      <td>37.950353</td>\n",
       "      <td>49.152849</td>\n",
       "    </tr>\n",
       "    <tr>\n",
       "      <th>12</th>\n",
       "      <td>32.915577</td>\n",
       "      <td>44.713242</td>\n",
       "      <td>54.037166</td>\n",
       "    </tr>\n",
       "  </tbody>\n",
       "</table>\n",
       "</div>"
      ],
      "text/plain": [
       "             D_wait_time  EE_wait_time  KS_wait_time\n",
       "MONTHOFYEAR                                         \n",
       "1              28.886721     37.110491     40.409941\n",
       "2              29.310028     37.816829     48.298313\n",
       "3              33.296683     44.422839     53.991041\n",
       "4              28.760494     38.236419     47.069819\n",
       "5              28.010166     36.143250     40.242803\n",
       "6              28.968368     34.431147     41.422578\n",
       "7              30.176123     35.328696     35.187192\n",
       "8              28.603815     31.491752     33.189747\n",
       "9              18.310327     20.580201     26.296133\n",
       "10             26.348213     30.811574     41.543420\n",
       "11             29.744664     37.950353     49.152849\n",
       "12             32.915577     44.713242     54.037166"
      ]
     },
     "execution_count": 83,
     "metadata": {},
     "output_type": "execute_result"
    }
   ],
   "source": [
    "ak_month = pd.merge(ak_daily_avg, metadata_final[['date','MONTHOFYEAR']],on='date')\n",
    "ak_month_means = ak_month.groupby('MONTHOFYEAR').mean()\n",
    "ak_month_means"
   ]
  },
  {
   "cell_type": "code",
   "execution_count": 84,
   "metadata": {},
   "outputs": [
    {
     "data": {
      "image/png": "[encoded data removed]",
      "text/plain": [
       "<Figure size 432x288 with 1 Axes>"
      ]
     },
     "metadata": {
      "needs_background": "light"
     },
     "output_type": "display_data"
    }
   ],
   "source": [
    "ak_month_means.reset_index().plot(x='MONTHOFYEAR', y=['D_wait_time', 'EE_wait_time', 'KS_wait_time'], kind='bar')\n",
    "plt.title('Animal Kingdom Rides')\n",
    "plt.show()"
   ]
  },
  {
   "cell_type": "markdown",
   "metadata": {},
   "source": [
    "In the Animal Kingdom, all three rides have the highest average wait times in March and December. Next, all three rides have the lowest daily average hourly wait times in September. "
   ]
  },
  {
   "cell_type": "markdown",
   "metadata": {},
   "source": [
    "**Now, I will combine the day of the week and month of the year data to perform some regression analysis.**"
   ]
  },
  {
   "cell_type": "markdown",
   "metadata": {},
   "source": [
    "Single Variable Linear Regression on Seven Dwarfs Train:"
   ]
  },
  {
   "cell_type": "code",
   "execution_count": 85,
   "metadata": {},
   "outputs": [
    {
     "name": "stdout",
     "output_type": "stream",
     "text": [
      "Predictor variable = Day of Week\n",
      "Regression slope = 0.3494994407047398\n",
      "R-squared = 0.0011700498544927607\n",
      "\n",
      "\n",
      "Predictor variable = Month of Year\n",
      "Regression slope = -0.8042878974699494\n",
      "R-squared = 0.018411396531831326\n"
     ]
    }
   ],
   "source": [
    "mk_week_month = pd.merge(mk_daily_avg, metadata_final[['date','DAYOFWEEK','MONTHOFYEAR']],on='date')\n",
    "\n",
    "day_model = LinearRegression().fit(mk_week_month[['DAYOFWEEK']], mk_week_month['DT_wait_time'])\n",
    "day_score = day_model.score(mk_week_month[['DAYOFWEEK']], mk_week_month['DT_wait_time'])\n",
    "print('Predictor variable = Day of Week')\n",
    "print('Regression slope = {}'.format(day_model.coef_[0]))\n",
    "print('R-squared = {}'.format(day_score))\n",
    "print('\\n')\n",
    "      \n",
    "month_model = LinearRegression().fit(mk_week_month[['MONTHOFYEAR']], mk_week_month['DT_wait_time'])\n",
    "month_score = month_model.score(mk_week_month[['MONTHOFYEAR']], mk_week_month['DT_wait_time'])\n",
    "print('Predictor variable = Month of Year')\n",
    "print('Regression slope = {}'.format(month_model.coef_[0]))\n",
    "print('R-squared = {}'.format(month_score))"
   ]
  },
  {
   "cell_type": "markdown",
   "metadata": {},
   "source": [
    "Multivariable Linear Regression on Seven Dwarfs Train:"
   ]
  },
  {
   "cell_type": "code",
   "execution_count": 20,
   "metadata": {},
   "outputs": [
    {
     "name": "stdout",
     "output_type": "stream",
     "text": [
      "Coeffecient for Day of Week = 0.35169985559662204\n",
      "Coeffecient for Month of Year = -0.8046115941250875\n",
      "R-squared = 0.019596222825897347\n"
     ]
    }
   ],
   "source": [
    "multivar_model = LinearRegression().fit(mk_week_month[['DAYOFWEEK', 'MONTHOFYEAR']], mk_week_month['DT_wait_time'])\n",
    "score = multivar_model.score(mk_week_month[['DAYOFWEEK', 'MONTHOFYEAR']], mk_week_month['DT_wait_time'])\n",
    "print('Coeffecient for Day of Week = {}'.format(multivar_model.coef_[0]))\n",
    "print('Coeffecient for Month of Year = {}'.format(multivar_model.coef_[1]))\n",
    "print('R-squared = {}'.format(score))"
   ]
  },
  {
   "cell_type": "markdown",
   "metadata": {},
   "source": [
    "Multivariable Linear Regression on all rides in Magic Kingdom:"
   ]
  },
  {
   "cell_type": "code",
   "execution_count": 21,
   "metadata": {},
   "outputs": [],
   "source": [
    "mk_week_month['total_wait_time'] = mk_week_month['DT_wait_time'] + mk_week_month['POC_wait_time'] + mk_week_month['SM_wait_time']\n",
    "mk_week_month2 = mk_week_month.dropna()"
   ]
  },
  {
   "cell_type": "code",
   "execution_count": 22,
   "metadata": {},
   "outputs": [
    {
     "name": "stdout",
     "output_type": "stream",
     "text": [
      "Coeffecient for Day of Week = 0.7492766392790281\n",
      "Coeffecient for Month of Year = -0.9675474369796436\n",
      "R-squared = 0.0066956065606174064\n"
     ]
    }
   ],
   "source": [
    "multivar_model2 = LinearRegression().fit(mk_week_month2[['DAYOFWEEK', 'MONTHOFYEAR']], mk_week_month2['total_wait_time'])\n",
    "score2 = multivar_model2.score(mk_week_month2[['DAYOFWEEK', 'MONTHOFYEAR']], mk_week_month2['total_wait_time'])\n",
    "print('Coeffecient for Day of Week = {}'.format(multivar_model2.coef_[0]))\n",
    "print('Coeffecient for Month of Year = {}'.format(multivar_model2.coef_[1]))\n",
    "print('R-squared = {}'.format(score2))"
   ]
  },
  {
   "cell_type": "markdown",
   "metadata": {},
   "source": [
    "**Research Question #3: How does the percentage of schools in session affect the wait times for different parks?** "
   ]
  },
  {
   "cell_type": "markdown",
   "metadata": {},
   "source": [
    "I am only going to look at 2019. Also, I sum together the wait times of the rides in each park to see how the percentage of schools in session affect the wait times for each park in general. "
   ]
  },
  {
   "cell_type": "code",
   "execution_count": 87,
   "metadata": {},
   "outputs": [],
   "source": [
    "mk_schools = pd.merge(mk_daily_avg, metadata_final[['date','inSession']],on='date')\n",
    "ep_schools = pd.merge(ep_daily_avg, metadata_final[['date','inSession']],on='date')\n",
    "hs_schools = pd.merge(hs_daily_avg, metadata_final[['date','inSession']],on='date')\n",
    "ak_schools = pd.merge(ak_daily_avg, metadata_final[['date','inSession']],on='date')"
   ]
  },
  {
   "cell_type": "code",
   "execution_count": 88,
   "metadata": {},
   "outputs": [],
   "source": [
    "mk_schools19 = mk_schools[1458:]\n",
    "ep_schools19 = ep_schools[1458:]\n",
    "hs_schools19 = hs_schools[1458:]\n",
    "ak_schools19 = ak_schools[1458:]"
   ]
  },
  {
   "cell_type": "code",
   "execution_count": 89,
   "metadata": {},
   "outputs": [
    {
     "data": {
      "image/png": "[encoded data removed]",
      "text/plain": [
       "<Figure size 432x288 with 1 Axes>"
      ]
     },
     "metadata": {
      "needs_background": "light"
     },
     "output_type": "display_data"
    }
   ],
   "source": [
    "mk_schools19_total = mk_schools19.copy()\n",
    "mk_schools19_total['total_wait_time'] = mk_schools19['DT_wait_time'] + mk_schools19['POC_wait_time'] + mk_schools19['SM_wait_time']\n",
    "mk_schools19_total = mk_schools19_total.dropna()\n",
    "sns.regplot(x=\"inSession\", y=\"total_wait_time\", data=mk_schools19_total)\n",
    "plt.title('Magic Kingdom Rides')\n",
    "plt.show()"
   ]
  },
  {
   "cell_type": "code",
   "execution_count": 90,
   "metadata": {},
   "outputs": [
    {
     "name": "stdout",
     "output_type": "stream",
     "text": [
      "Regression slope = -63.40223564627953\n",
      "R-squared = 0.2136455109689186\n"
     ]
    }
   ],
   "source": [
    "mk_model = LinearRegression().fit(mk_schools19_total[['inSession']], mk_schools19_total['total_wait_time'])\n",
    "mk_score = mk_model.score(mk_schools19_total[['inSession']], mk_schools19_total['total_wait_time'])\n",
    "print('Regression slope = {}'.format(mk_model.coef_[0]))\n",
    "print('R-squared = {}'.format(mk_score))"
   ]
  },
  {
   "cell_type": "code",
   "execution_count": 91,
   "metadata": {},
   "outputs": [
    {
     "data": {
      "image/png": "[encoded data removed]",
      "text/plain": [
       "<Figure size 432x288 with 1 Axes>"
      ]
     },
     "metadata": {
      "needs_background": "light"
     },
     "output_type": "display_data"
    }
   ],
   "source": [
    "ep_schools19_total = ep_schools19.copy()\n",
    "ep_schools19_total['total_wait_time'] = ep_schools19['S_wait_time'] + ep_schools19['SE_wait_time']\n",
    "ep_schools19_total = ep_schools19_total.dropna()\n",
    "sns.regplot(x=\"inSession\", y=\"total_wait_time\", data=ep_schools19_total)\n",
    "plt.title('EPCOT Rides')\n",
    "plt.show()"
   ]
  },
  {
   "cell_type": "code",
   "execution_count": 94,
   "metadata": {},
   "outputs": [
    {
     "name": "stdout",
     "output_type": "stream",
     "text": [
      "Regression slope = -16.42263613806078\n",
      "R-squared = 0.07262931684136986\n"
     ]
    }
   ],
   "source": [
    "ep_model = LinearRegression().fit(ep_schools19_total[['inSession']], ep_schools19_total['total_wait_time'])\n",
    "ep_score = ep_model.score(ep_schools19_total[['inSession']], ep_schools19_total['total_wait_time'])\n",
    "print('Regression slope = {}'.format(ep_model.coef_[0]))\n",
    "print('R-squared = {}'.format(ep_score))"
   ]
  },
  {
   "cell_type": "code",
   "execution_count": 92,
   "metadata": {},
   "outputs": [
    {
     "data": {
      "image/png": "[encoded data removed]",
      "text/plain": [
       "<Figure size 432x288 with 1 Axes>"
      ]
     },
     "metadata": {
      "needs_background": "light"
     },
     "output_type": "display_data"
    }
   ],
   "source": [
    "hs_schools19_total = hs_schools19.copy()\n",
    "hs_schools19_total['total_wait_time'] = hs_schools19['RNR_wait_time'] + hs_schools19['TSM_wait_time']\n",
    "hs_schools19_total = hs_schools19_total.dropna()\n",
    "sns.regplot(x=\"inSession\", y=\"total_wait_time\", data=hs_schools19_total)\n",
    "plt.title('Hollywood Studios Rides')\n",
    "plt.show()"
   ]
  },
  {
   "cell_type": "code",
   "execution_count": 95,
   "metadata": {},
   "outputs": [
    {
     "name": "stdout",
     "output_type": "stream",
     "text": [
      "Regression slope = -51.998437594673995\n",
      "R-squared = 0.23056505708637465\n"
     ]
    }
   ],
   "source": [
    "hs_model = LinearRegression().fit(hs_schools19_total[['inSession']], hs_schools19_total['total_wait_time'])\n",
    "hs_score = hs_model.score(hs_schools19_total[['inSession']], hs_schools19_total['total_wait_time'])\n",
    "print('Regression slope = {}'.format(hs_model.coef_[0]))\n",
    "print('R-squared = {}'.format(hs_score))"
   ]
  },
  {
   "cell_type": "code",
   "execution_count": 93,
   "metadata": {},
   "outputs": [
    {
     "data": {
      "image/png": "[encoded data removed]",
      "text/plain": [
       "<Figure size 432x288 with 1 Axes>"
      ]
     },
     "metadata": {
      "needs_background": "light"
     },
     "output_type": "display_data"
    }
   ],
   "source": [
    "ak_schools19_total = ak_schools19.copy()\n",
    "ak_schools19_total['total_wait_time'] = ak_schools19['D_wait_time'] + ak_schools19['EE_wait_time'] + ak_schools19['KS_wait_time']\n",
    "ak_schools19_total = ak_schools19_total.dropna()\n",
    "sns.regplot(x=\"inSession\", y=\"total_wait_time\", data=ak_schools19_total)\n",
    "plt.title('Animal Kingdom Rides')\n",
    "plt.show()"
   ]
  },
  {
   "cell_type": "code",
   "execution_count": 96,
   "metadata": {},
   "outputs": [
    {
     "name": "stdout",
     "output_type": "stream",
     "text": [
      "Regression slope = -38.512030844727065\n",
      "R-squared = 0.09214268387697455\n"
     ]
    }
   ],
   "source": [
    "ak_model = LinearRegression().fit(ak_schools19_total[['inSession']], ak_schools19_total['total_wait_time'])\n",
    "ak_score = ak_model.score(ak_schools19_total[['inSession']], ak_schools19_total['total_wait_time'])\n",
    "print('Regression slope = {}'.format(ak_model.coef_[0]))\n",
    "print('R-squared = {}'.format(ak_score))"
   ]
  },
  {
   "cell_type": "markdown",
   "metadata": {},
   "source": [
    "As one can see from above, all regression slopes are negative, indicating an inverse relationship between the percentage of schools in session and the total wait time of the rides in each park. However, the slopes are all of different magnitudes, indicating the relationship between variables isn't as dramatic for some parks. Overall, the R-squared values are all pretty low, which means the relationships doesn't seem to be too strong. "
   ]
  },
  {
   "cell_type": "markdown",
   "metadata": {},
   "source": [
    "**Research Question #4: Is there a noticeable effect on the wait times for rides after a major news event regarding Disney has occurred?**"
   ]
  },
  {
   "cell_type": "markdown",
   "metadata": {},
   "source": [
    "The first news event I will take a look at is when \"Pandora: The World of Avatar\" opened in Animal Kingdom on May 27, 2017. How did this affect wait times for the other attractions in Animal Kingdom?"
   ]
  },
  {
   "cell_type": "code",
   "execution_count": 33,
   "metadata": {},
   "outputs": [
    {
     "name": "stdout",
     "output_type": "stream",
     "text": [
      "Below are the mean values for the average hourly wait time for each AK ride in 2017.\n"
     ]
    },
    {
     "data": {
      "text/plain": [
       "D_wait_time     27.980026\n",
       "EE_wait_time    36.804574\n",
       "KS_wait_time    39.750605\n",
       "dtype: float64"
      ]
     },
     "execution_count": 33,
     "metadata": {},
     "output_type": "execute_result"
    }
   ],
   "source": [
    "# Animal Kingdom Rides in 2017\n",
    "ak_daily_avg17 = ak_daily_avg[730:1093]\n",
    "print('Below are the mean values for the average hourly wait time for each AK ride in 2017.')\n",
    "ak_daily_avg17.mean()"
   ]
  },
  {
   "cell_type": "code",
   "execution_count": 34,
   "metadata": {},
   "outputs": [
    {
     "name": "stdout",
     "output_type": "stream",
     "text": [
      "Below are the average hourly wait time for each AK ride on May 27, 2017\n"
     ]
    },
    {
     "data": {
      "text/plain": [
       "D_wait_time     35.352667\n",
       "EE_wait_time    41.708667\n",
       "KS_wait_time    48.358000\n",
       "Name: 2017-05-27, dtype: float64"
      ]
     },
     "execution_count": 34,
     "metadata": {},
     "output_type": "execute_result"
    }
   ],
   "source": [
    "print('Below are the average hourly wait time for each AK ride on May 27, 2017')\n",
    "ak_daily_avg17.loc['2017-05-27']"
   ]
  },
  {
   "cell_type": "markdown",
   "metadata": {},
   "source": [
    "As one can see, the average hourly wait times for all three rides in Animal Kingdom were significantly higher on May 27th than the mean value for the entire year. This indicates higher crowd levels due to the opening of Pandora: The World of Avatar. "
   ]
  },
  {
   "cell_type": "code",
   "execution_count": 97,
   "metadata": {},
   "outputs": [
    {
     "data": {
      "image/png": "[encoded data removed]",
      "text/plain": [
       "<Figure size 864x432 with 1 Axes>"
      ]
     },
     "metadata": {
      "needs_background": "light"
     },
     "output_type": "display_data"
    }
   ],
   "source": [
    "plt.figure(figsize=(12,6))\n",
    "plt.plot(ak_daily_avg17.loc['2017-05-01':'2017-07-01'])\n",
    "plt.legend(labels=('DINOSAUR', 'Expedition Everest', 'Kilimanjaro Safaris'))\n",
    "plt.xlabel('Date')\n",
    "plt.ylabel('Wait Time (min)')\n",
    "plt.xticks([0, 31, 61], ['05-01', '06-01', '07-01'])\n",
    "plt.title('Animal Kingdom Rides May-June')\n",
    "plt.show()"
   ]
  },
  {
   "cell_type": "markdown",
   "metadata": {},
   "source": [
    "The graph above is a little hard to read, but it does look like wait times for ride were actually lower after the opening of Pandora: The World of Avatar. "
   ]
  },
  {
   "cell_type": "code",
   "execution_count": 36,
   "metadata": {},
   "outputs": [
    {
     "data": {
      "image/png": "[encoded data removed]",
      "text/plain": [
       "<Figure size 432x288 with 1 Axes>"
      ]
     },
     "metadata": {
      "needs_background": "light"
     },
     "output_type": "display_data"
    }
   ],
   "source": [
    "before = ak_daily_avg17.loc['2017-01-01':'2017-05-26'].dropna()\n",
    "after = ak_daily_avg17.loc['2017-05-27':'2017-12-31'].dropna()\n",
    "\n",
    "plt.boxplot([before.D_wait_time, after.D_wait_time])\n",
    "plt.xticks([1, 2], ['before', 'after'])\n",
    "plt.ylabel('Average hourly wait time (min)')\n",
    "plt.title('DINOSAUR')\n",
    "plt.show()"
   ]
  },
  {
   "cell_type": "code",
   "execution_count": 37,
   "metadata": {},
   "outputs": [
    {
     "data": {
      "image/png": "[encoded data removed]",
      "text/plain": [
       "<Figure size 432x288 with 1 Axes>"
      ]
     },
     "metadata": {
      "needs_background": "light"
     },
     "output_type": "display_data"
    }
   ],
   "source": [
    "plt.boxplot([before.EE_wait_time, after.EE_wait_time])\n",
    "plt.xticks([1, 2], ['before', 'after'])\n",
    "plt.ylabel('Average hourly wait time (min)')\n",
    "plt.title('Expedition Everest')\n",
    "plt.show()"
   ]
  },
  {
   "cell_type": "code",
   "execution_count": 38,
   "metadata": {},
   "outputs": [
    {
     "data": {
      "image/png": "[encoded data removed]",
      "text/plain": [
       "<Figure size 432x288 with 1 Axes>"
      ]
     },
     "metadata": {
      "needs_background": "light"
     },
     "output_type": "display_data"
    }
   ],
   "source": [
    "plt.boxplot([before.KS_wait_time, after.KS_wait_time])\n",
    "plt.xticks([1, 2], ['before', 'after'])\n",
    "plt.ylabel('Average hourly wait time (min)')\n",
    "plt.title('Kilimanjaro Safaris')\n",
    "plt.show()"
   ]
  },
  {
   "cell_type": "markdown",
   "metadata": {},
   "source": [
    "In each of the boxplots above, one can see for the most part, wait times were lower for all three rides after Pandora: The World of Avatar opened than they were before. One exception is that the mean wait time is higher after the opening for Kilimanjaro Safaries, but the distrubution as a whole is lower than it was before Pandora opened. Lower wait times make sense because although there may be larger crowds at Animal Kingdom, these crowds could likely be spending most of their time in The World of Avatar.  "
   ]
  },
  {
   "cell_type": "markdown",
   "metadata": {},
   "source": [
    "The next news event I will look at is when Happily Ever After, a new fireworks and projection mapping show, debuted at Magic Kingdom on May 12, 2017. How does this affect ride wait times at Magic Kingdom, especially at night?"
   ]
  },
  {
   "cell_type": "code",
   "execution_count": 101,
   "metadata": {},
   "outputs": [
    {
     "data": {
      "image/png": "[encoded data removed]",
      "text/plain": [
       "<Figure size 432x288 with 1 Axes>"
      ]
     },
     "metadata": {
      "needs_background": "light"
     },
     "output_type": "display_data"
    }
   ],
   "source": [
    "mk_late = mk_final.where(mk_final.hour_of_day >= 21).dropna()\n",
    "mk_late_avg = mk_late.groupby('date').mean().drop('hour_of_day', axis=1)\n",
    "\n",
    "# Plot for May 2017\n",
    "plt.plot(mk_late_avg.loc['2017-05-01':'2017-05-31'])\n",
    "plt.legend(labels=('Seven Dwarfs Mine Train', 'Pirates of the Caribbean', 'Splash Mountain'))\n",
    "plt.xticks([0, 11, 27], ['05-01', '05-12', '05-31'])\n",
    "plt.title('Magic Kingdom Rides in May 2017')\n",
    "plt.show()"
   ]
  },
  {
   "cell_type": "markdown",
   "metadata": {},
   "source": [
    "In the plot above, I plot the average wait times after 9:00pm for each ride in the Magic Kingdom in May 2017. As one can see, there looks to be a peak for each ride on May 12, the day the fireworks show debuted. Wait times for all three rides, also increase towards the end of the month.  "
   ]
  },
  {
   "cell_type": "markdown",
   "metadata": {},
   "source": [
    " Other news events I may try to look into include:\n",
    " - Other new rides coming out\n",
    " - Movies coming out\n",
    " - Construction\n",
    " - Price changes"
   ]
  },
  {
   "cell_type": "markdown",
   "metadata": {},
   "source": [
    "## V. Evaluation of Significance"
   ]
  },
  {
   "cell_type": "markdown",
   "metadata": {},
   "source": [
    "Use hypothesis tests, simulation, randomization, or any other techniques we have learned to compare the patterns you observe in the dataset to simple randomness. "
   ]
  },
  {
   "cell_type": "markdown",
   "metadata": {},
   "source": [
    "**Significance of relationship between day of the week and Dwarfs Train wait times:**"
   ]
  },
  {
   "cell_type": "code",
   "execution_count": 102,
   "metadata": {},
   "outputs": [
    {
     "data": {
      "text/html": [
       "<table class=\"simpletable\">\n",
       "<caption>OLS Regression Results</caption>\n",
       "<tr>\n",
       "  <th>Dep. Variable:</th>      <td>DT_wait_time</td>   <th>  R-squared:         </th> <td>   0.001</td> \n",
       "</tr>\n",
       "<tr>\n",
       "  <th>Model:</th>                   <td>OLS</td>       <th>  Adj. R-squared:    </th> <td>   0.001</td> \n",
       "</tr>\n",
       "<tr>\n",
       "  <th>Method:</th>             <td>Least Squares</td>  <th>  F-statistic:       </th> <td>   2.132</td> \n",
       "</tr>\n",
       "<tr>\n",
       "  <th>Date:</th>             <td>Mon, 23 Nov 2020</td> <th>  Prob (F-statistic):</th>  <td> 0.144</td>  \n",
       "</tr>\n",
       "<tr>\n",
       "  <th>Time:</th>                 <td>15:22:11</td>     <th>  Log-Likelihood:    </th> <td> -8081.9</td> \n",
       "</tr>\n",
       "<tr>\n",
       "  <th>No. Observations:</th>      <td>  1822</td>      <th>  AIC:               </th> <td>1.617e+04</td>\n",
       "</tr>\n",
       "<tr>\n",
       "  <th>Df Residuals:</th>          <td>  1820</td>      <th>  BIC:               </th> <td>1.618e+04</td>\n",
       "</tr>\n",
       "<tr>\n",
       "  <th>Df Model:</th>              <td>     1</td>      <th>                     </th>     <td> </td>    \n",
       "</tr>\n",
       "<tr>\n",
       "  <th>Covariance Type:</th>      <td>nonrobust</td>    <th>                     </th>     <td> </td>    \n",
       "</tr>\n",
       "</table>\n",
       "<table class=\"simpletable\">\n",
       "<tr>\n",
       "      <td></td>         <th>coef</th>     <th>std err</th>      <th>t</th>      <th>P>|t|</th>  <th>[0.025</th>    <th>0.975]</th>  \n",
       "</tr>\n",
       "<tr>\n",
       "  <th>Intercept</th> <td>   83.7430</td> <td>    1.071</td> <td>   78.195</td> <td> 0.000</td> <td>   81.643</td> <td>   85.843</td>\n",
       "</tr>\n",
       "<tr>\n",
       "  <th>DAYOFWEEK</th> <td>    0.3495</td> <td>    0.239</td> <td>    1.460</td> <td> 0.144</td> <td>   -0.120</td> <td>    0.819</td>\n",
       "</tr>\n",
       "</table>\n",
       "<table class=\"simpletable\">\n",
       "<tr>\n",
       "  <th>Omnibus:</th>       <td>94.672</td> <th>  Durbin-Watson:     </th> <td>   0.712</td>\n",
       "</tr>\n",
       "<tr>\n",
       "  <th>Prob(Omnibus):</th> <td> 0.000</td> <th>  Jarque-Bera (JB):  </th> <td> 113.395</td>\n",
       "</tr>\n",
       "<tr>\n",
       "  <th>Skew:</th>          <td> 0.537</td> <th>  Prob(JB):          </th> <td>2.38e-25</td>\n",
       "</tr>\n",
       "<tr>\n",
       "  <th>Kurtosis:</th>      <td> 3.584</td> <th>  Cond. No.          </th> <td>    10.4</td>\n",
       "</tr>\n",
       "</table><br/><br/>Notes:<br/>[1] Standard Errors assume that the covariance matrix of the errors is correctly specified."
      ],
      "text/plain": [
       "<class 'statsmodels.iolib.summary.Summary'>\n",
       "\"\"\"\n",
       "                            OLS Regression Results                            \n",
       "==============================================================================\n",
       "Dep. Variable:           DT_wait_time   R-squared:                       0.001\n",
       "Model:                            OLS   Adj. R-squared:                  0.001\n",
       "Method:                 Least Squares   F-statistic:                     2.132\n",
       "Date:                Mon, 23 Nov 2020   Prob (F-statistic):              0.144\n",
       "Time:                        15:22:11   Log-Likelihood:                -8081.9\n",
       "No. Observations:                1822   AIC:                         1.617e+04\n",
       "Df Residuals:                    1820   BIC:                         1.618e+04\n",
       "Df Model:                           1                                         \n",
       "Covariance Type:            nonrobust                                         \n",
       "==============================================================================\n",
       "                 coef    std err          t      P>|t|      [0.025      0.975]\n",
       "------------------------------------------------------------------------------\n",
       "Intercept     83.7430      1.071     78.195      0.000      81.643      85.843\n",
       "DAYOFWEEK      0.3495      0.239      1.460      0.144      -0.120       0.819\n",
       "==============================================================================\n",
       "Omnibus:                       94.672   Durbin-Watson:                   0.712\n",
       "Prob(Omnibus):                  0.000   Jarque-Bera (JB):              113.395\n",
       "Skew:                           0.537   Prob(JB):                     2.38e-25\n",
       "Kurtosis:                       3.584   Cond. No.                         10.4\n",
       "==============================================================================\n",
       "\n",
       "Notes:\n",
       "[1] Standard Errors assume that the covariance matrix of the errors is correctly specified.\n",
       "\"\"\""
      ]
     },
     "execution_count": 102,
     "metadata": {},
     "output_type": "execute_result"
    }
   ],
   "source": [
    "weekday_model = smf.ols('DT_wait_time ~ DAYOFWEEK', data=mk_week_month)\n",
    "result1 = weekday_model.fit()\n",
    "result1.summary()"
   ]
  },
  {
   "cell_type": "markdown",
   "metadata": {},
   "source": [
    "In the summary above, the p-value is 0.144. Becuase p-value > 0.05, we cannot reject the null hypothesis and there is not enough evidence that the `DAYOFWEEK` variable has a statistically meaningful relationship to the wait time of the Seven Dwarfs Train ride.  "
   ]
  },
  {
   "cell_type": "markdown",
   "metadata": {},
   "source": [
    "**Significance of relationship between month of year and Seven Dwarfs Train wait times:**"
   ]
  },
  {
   "cell_type": "code",
   "execution_count": 103,
   "metadata": {},
   "outputs": [
    {
     "data": {
      "text/html": [
       "<table class=\"simpletable\">\n",
       "<caption>OLS Regression Results</caption>\n",
       "<tr>\n",
       "  <th>Dep. Variable:</th>      <td>DT_wait_time</td>   <th>  R-squared:         </th> <td>   0.018</td> \n",
       "</tr>\n",
       "<tr>\n",
       "  <th>Model:</th>                   <td>OLS</td>       <th>  Adj. R-squared:    </th> <td>   0.018</td> \n",
       "</tr>\n",
       "<tr>\n",
       "  <th>Method:</th>             <td>Least Squares</td>  <th>  F-statistic:       </th> <td>   34.14</td> \n",
       "</tr>\n",
       "<tr>\n",
       "  <th>Date:</th>             <td>Mon, 23 Nov 2020</td> <th>  Prob (F-statistic):</th> <td>6.07e-09</td> \n",
       "</tr>\n",
       "<tr>\n",
       "  <th>Time:</th>                 <td>15:23:22</td>     <th>  Log-Likelihood:    </th> <td> -8066.1</td> \n",
       "</tr>\n",
       "<tr>\n",
       "  <th>No. Observations:</th>      <td>  1822</td>      <th>  AIC:               </th> <td>1.614e+04</td>\n",
       "</tr>\n",
       "<tr>\n",
       "  <th>Df Residuals:</th>          <td>  1820</td>      <th>  BIC:               </th> <td>1.615e+04</td>\n",
       "</tr>\n",
       "<tr>\n",
       "  <th>Df Model:</th>              <td>     1</td>      <th>                     </th>     <td> </td>    \n",
       "</tr>\n",
       "<tr>\n",
       "  <th>Covariance Type:</th>      <td>nonrobust</td>    <th>                     </th>     <td> </td>    \n",
       "</tr>\n",
       "</table>\n",
       "<table class=\"simpletable\">\n",
       "<tr>\n",
       "       <td></td>          <th>coef</th>     <th>std err</th>      <th>t</th>      <th>P>|t|</th>  <th>[0.025</th>    <th>0.975]</th>  \n",
       "</tr>\n",
       "<tr>\n",
       "  <th>Intercept</th>   <td>   90.3824</td> <td>    1.015</td> <td>   89.064</td> <td> 0.000</td> <td>   88.392</td> <td>   92.373</td>\n",
       "</tr>\n",
       "<tr>\n",
       "  <th>MONTHOFYEAR</th> <td>   -0.8043</td> <td>    0.138</td> <td>   -5.843</td> <td> 0.000</td> <td>   -1.074</td> <td>   -0.534</td>\n",
       "</tr>\n",
       "</table>\n",
       "<table class=\"simpletable\">\n",
       "<tr>\n",
       "  <th>Omnibus:</th>       <td>120.608</td> <th>  Durbin-Watson:     </th> <td>   0.745</td>\n",
       "</tr>\n",
       "<tr>\n",
       "  <th>Prob(Omnibus):</th> <td> 0.000</td>  <th>  Jarque-Bera (JB):  </th> <td> 155.481</td>\n",
       "</tr>\n",
       "<tr>\n",
       "  <th>Skew:</th>          <td> 0.599</td>  <th>  Prob(JB):          </th> <td>1.73e-34</td>\n",
       "</tr>\n",
       "<tr>\n",
       "  <th>Kurtosis:</th>      <td> 3.782</td>  <th>  Cond. No.          </th> <td>    16.0</td>\n",
       "</tr>\n",
       "</table><br/><br/>Notes:<br/>[1] Standard Errors assume that the covariance matrix of the errors is correctly specified."
      ],
      "text/plain": [
       "<class 'statsmodels.iolib.summary.Summary'>\n",
       "\"\"\"\n",
       "                            OLS Regression Results                            \n",
       "==============================================================================\n",
       "Dep. Variable:           DT_wait_time   R-squared:                       0.018\n",
       "Model:                            OLS   Adj. R-squared:                  0.018\n",
       "Method:                 Least Squares   F-statistic:                     34.14\n",
       "Date:                Mon, 23 Nov 2020   Prob (F-statistic):           6.07e-09\n",
       "Time:                        15:23:22   Log-Likelihood:                -8066.1\n",
       "No. Observations:                1822   AIC:                         1.614e+04\n",
       "Df Residuals:                    1820   BIC:                         1.615e+04\n",
       "Df Model:                           1                                         \n",
       "Covariance Type:            nonrobust                                         \n",
       "===============================================================================\n",
       "                  coef    std err          t      P>|t|      [0.025      0.975]\n",
       "-------------------------------------------------------------------------------\n",
       "Intercept      90.3824      1.015     89.064      0.000      88.392      92.373\n",
       "MONTHOFYEAR    -0.8043      0.138     -5.843      0.000      -1.074      -0.534\n",
       "==============================================================================\n",
       "Omnibus:                      120.608   Durbin-Watson:                   0.745\n",
       "Prob(Omnibus):                  0.000   Jarque-Bera (JB):              155.481\n",
       "Skew:                           0.599   Prob(JB):                     1.73e-34\n",
       "Kurtosis:                       3.782   Cond. No.                         16.0\n",
       "==============================================================================\n",
       "\n",
       "Notes:\n",
       "[1] Standard Errors assume that the covariance matrix of the errors is correctly specified.\n",
       "\"\"\""
      ]
     },
     "execution_count": 103,
     "metadata": {},
     "output_type": "execute_result"
    }
   ],
   "source": [
    "month_model = smf.ols('DT_wait_time ~ MONTHOFYEAR', data=mk_week_month)\n",
    "result2 = month_model.fit()\n",
    "result2.summary()"
   ]
  },
  {
   "cell_type": "markdown",
   "metadata": {},
   "source": [
    "In the summary above, the p-value of the `MONTHOFYEAR` variable is 0.000 which indicates we can reject the null hypothesis that the coefficient is equal to zero. Therefore, the relationship between the month of the year and the wait times for the Seven Dwarfs Train Ride is statistically significant. "
   ]
  },
  {
   "cell_type": "markdown",
   "metadata": {},
   "source": [
    "**Significance of relationship between percentage of schools in session and wait time:**"
   ]
  },
  {
   "cell_type": "markdown",
   "metadata": {},
   "source": [
    "From my above analysis, with all of the data from 2019, the regression slope was -51.998, indicating an inverse relationship. However, the R-squared value was 0.231 which is not very high. "
   ]
  },
  {
   "cell_type": "code",
   "execution_count": 40,
   "metadata": {},
   "outputs": [
    {
     "data": {
      "image/png": "[encoded data removed]",
      "text/plain": [
       "<Figure size 432x288 with 1 Axes>"
      ]
     },
     "metadata": {
      "needs_background": "light"
     },
     "output_type": "display_data"
    }
   ],
   "source": [
    "slopes = np.zeros(100)\n",
    "for i in range(100):\n",
    "    sample = hs_schools19_total.sample(n=150)\n",
    "    samp_model = LinearRegression().fit(sample[['inSession']], sample['total_wait_time'])\n",
    "    slopes[i] = samp_model.coef_[0]\n",
    "\n",
    "plt.hist(slopes, bins = 30)\n",
    "plt.show()"
   ]
  },
  {
   "cell_type": "code",
   "execution_count": 45,
   "metadata": {},
   "outputs": [
    {
     "data": {
      "text/html": [
       "<table class=\"simpletable\">\n",
       "<caption>OLS Regression Results</caption>\n",
       "<tr>\n",
       "  <th>Dep. Variable:</th>     <td>total_wait_time</td> <th>  R-squared:         </th> <td>   0.231</td>\n",
       "</tr>\n",
       "<tr>\n",
       "  <th>Model:</th>                   <td>OLS</td>       <th>  Adj. R-squared:    </th> <td>   0.228</td>\n",
       "</tr>\n",
       "<tr>\n",
       "  <th>Method:</th>             <td>Least Squares</td>  <th>  F-statistic:       </th> <td>   107.9</td>\n",
       "</tr>\n",
       "<tr>\n",
       "  <th>Date:</th>             <td>Sun, 22 Nov 2020</td> <th>  Prob (F-statistic):</th> <td>2.81e-22</td>\n",
       "</tr>\n",
       "<tr>\n",
       "  <th>Time:</th>                 <td>23:50:18</td>     <th>  Log-Likelihood:    </th> <td> -1775.3</td>\n",
       "</tr>\n",
       "<tr>\n",
       "  <th>No. Observations:</th>      <td>   362</td>      <th>  AIC:               </th> <td>   3555.</td>\n",
       "</tr>\n",
       "<tr>\n",
       "  <th>Df Residuals:</th>          <td>   360</td>      <th>  BIC:               </th> <td>   3562.</td>\n",
       "</tr>\n",
       "<tr>\n",
       "  <th>Df Model:</th>              <td>     1</td>      <th>                     </th>     <td> </td>   \n",
       "</tr>\n",
       "<tr>\n",
       "  <th>Covariance Type:</th>      <td>nonrobust</td>    <th>                     </th>     <td> </td>   \n",
       "</tr>\n",
       "</table>\n",
       "<table class=\"simpletable\">\n",
       "<tr>\n",
       "      <td></td>         <th>coef</th>     <th>std err</th>      <th>t</th>      <th>P>|t|</th>  <th>[0.025</th>    <th>0.975]</th>  \n",
       "</tr>\n",
       "<tr>\n",
       "  <th>Intercept</th> <td>  161.8071</td> <td>    3.781</td> <td>   42.795</td> <td> 0.000</td> <td>  154.371</td> <td>  169.243</td>\n",
       "</tr>\n",
       "<tr>\n",
       "  <th>inSession</th> <td>  -51.9984</td> <td>    5.006</td> <td>  -10.386</td> <td> 0.000</td> <td>  -61.844</td> <td>  -42.153</td>\n",
       "</tr>\n",
       "</table>\n",
       "<table class=\"simpletable\">\n",
       "<tr>\n",
       "  <th>Omnibus:</th>       <td>12.604</td> <th>  Durbin-Watson:     </th> <td>   0.454</td>\n",
       "</tr>\n",
       "<tr>\n",
       "  <th>Prob(Omnibus):</th> <td> 0.002</td> <th>  Jarque-Bera (JB):  </th> <td>  15.310</td>\n",
       "</tr>\n",
       "<tr>\n",
       "  <th>Skew:</th>          <td> 0.335</td> <th>  Prob(JB):          </th> <td>0.000474</td>\n",
       "</tr>\n",
       "<tr>\n",
       "  <th>Kurtosis:</th>      <td> 3.752</td> <th>  Cond. No.          </th> <td>    4.34</td>\n",
       "</tr>\n",
       "</table><br/><br/>Notes:<br/>[1] Standard Errors assume that the covariance matrix of the errors is correctly specified."
      ],
      "text/plain": [
       "<class 'statsmodels.iolib.summary.Summary'>\n",
       "\"\"\"\n",
       "                            OLS Regression Results                            \n",
       "==============================================================================\n",
       "Dep. Variable:        total_wait_time   R-squared:                       0.231\n",
       "Model:                            OLS   Adj. R-squared:                  0.228\n",
       "Method:                 Least Squares   F-statistic:                     107.9\n",
       "Date:                Sun, 22 Nov 2020   Prob (F-statistic):           2.81e-22\n",
       "Time:                        23:50:18   Log-Likelihood:                -1775.3\n",
       "No. Observations:                 362   AIC:                             3555.\n",
       "Df Residuals:                     360   BIC:                             3562.\n",
       "Df Model:                           1                                         \n",
       "Covariance Type:            nonrobust                                         \n",
       "==============================================================================\n",
       "                 coef    std err          t      P>|t|      [0.025      0.975]\n",
       "------------------------------------------------------------------------------\n",
       "Intercept    161.8071      3.781     42.795      0.000     154.371     169.243\n",
       "inSession    -51.9984      5.006    -10.386      0.000     -61.844     -42.153\n",
       "==============================================================================\n",
       "Omnibus:                       12.604   Durbin-Watson:                   0.454\n",
       "Prob(Omnibus):                  0.002   Jarque-Bera (JB):               15.310\n",
       "Skew:                           0.335   Prob(JB):                     0.000474\n",
       "Kurtosis:                       3.752   Cond. No.                         4.34\n",
       "==============================================================================\n",
       "\n",
       "Notes:\n",
       "[1] Standard Errors assume that the covariance matrix of the errors is correctly specified.\n",
       "\"\"\""
      ]
     },
     "execution_count": 45,
     "metadata": {},
     "output_type": "execute_result"
    }
   ],
   "source": [
    "stats_model = smf.ols('total_wait_time ~ inSession', data=hs_schools19_total)\n",
    "result = stats_model.fit()\n",
    "result.summary()"
   ]
  },
  {
   "cell_type": "markdown",
   "metadata": {},
   "source": [
    "As seen above, the p-value of the `inSession` variable is 0.00 which is less than 0.05, indicating that there is a meaningful relationship between the percentage of schools in session and the total wait time of the two rides analyzed at Hollywood Studios. "
   ]
  },
  {
   "cell_type": "markdown",
   "metadata": {},
   "source": [
    "**Significance of relationship between news events and wait times:**"
   ]
  },
  {
   "cell_type": "markdown",
   "metadata": {},
   "source": [
    "Below I perform a paired sampled t-test to see if their is a noticeable difference of the wait times in the Animal Kingdom before and after the debut of Pandora: The World of Avatar. "
   ]
  },
  {
   "cell_type": "code",
   "execution_count": 41,
   "metadata": {},
   "outputs": [],
   "source": [
    "year_before = ak_daily_avg.loc['2016-05-28':'2017-05-26'].reset_index()\n",
    "year_after = ak_daily_avg.loc['2017-05-27':'2018-05-26'].reset_index()"
   ]
  },
  {
   "cell_type": "code",
   "execution_count": 42,
   "metadata": {},
   "outputs": [
    {
     "name": "stdout",
     "output_type": "stream",
     "text": [
      "nan\n"
     ]
    }
   ],
   "source": [
    "ttest, pval = stats.ttest_rel(year_before.D_wait_time, year_before.EE_wait_time)\n",
    "print(pval)"
   ]
  },
  {
   "cell_type": "markdown",
   "metadata": {},
   "source": [
    "For some reason I am getting NaN as a p-value and I am not sure why. I will certainly look more into this for my final project. My initial searches say this could be because the two samples are the same, but that certainly is not the case so I am a bit confused. I address this in the **Questions for Reviewers** section. "
   ]
  },
  {
   "cell_type": "markdown",
   "metadata": {},
   "source": [
    "## VI. Interpretation and Conclusions"
   ]
  },
  {
   "cell_type": "markdown",
   "metadata": {},
   "source": [
    "**What time of day is most popular for certain rides?**\n",
    "\n",
    "The time of day that is most popular for each ride varies from park to park, but tends to be similar for the rides in the same park. In the Magic Kingdom, wait times are the highest in the middle of the day and throughout the afternoon before dipping at night. Next, in EPCOT, wait times first peaked at 11:00am, but then dramatically jumped at the end of the day at 10:00pm. The most likely reason for this is that EPCOT is a popular dinner spot for visitors and have fireworks every night. When these end, visitors probably try to get one more ride before the park closes. In Hollywood Studios, wait times are high in the middle of the day and afternoon. They then dip towards the end of the day before jumping up at 10:00pm. Similar to EPCOT, Hollywood Studios has shows at night and when they end, visitors might try to fit in one more ride. Lastly, in the Animal Kingdom, wait times peak around 10:00 and 11:00am, and then decrease from then on. There is not much to do in the Animal Kingdom at night, so this could explain why wait times are the lowest then. "
   ]
  },
  {
   "cell_type": "markdown",
   "metadata": {},
   "source": [
    "**What day of the week/month of the year is Disney World typically most crowded?**\n",
    "\n",
    "After looking at how wait times changed for each ride depending on the day of the week, it is hard to come a conclusion on which day of the week is Disney World the most crowded. While the most recurring day of the week with the highest wait times for each ride was Saturday, there were still several rides with the highest wait times on other days of the week. In addition, the statisitical model confirmed that there is not a meaningful relationship between the day of the week and the wait time for the Seven Dwarfs Train ride. Although I did not perform the model on each ride, I would argue that a similar insignificant relationship exists. \n",
    "\n",
    "In terms of which month of the year that Disney World is the most crowded, based on my analysis and evaluation above, I would argue that March and December both boast high wait times. In my data analysis, almost every ride had the higest average wait times in either March or December. This makes sense because March is a popular time for Spring Break, and therefore, a lot of students are off from school and take vacations. December also makes sense because of the holidays, especially since Disney tranforms their parks into holiday masterpieces. The only ride that did not have the highest wait times in either March or December was Splash Mountain. As mentioned earlier, Splash Mountain has the highest wait times in July, which makes sense since it is a water ride and is more popular in warmer weather. On the other hand, every single ride analyzed had the lowest wait times in September on average. The reason for this is likely due to most children starting school back up again and therefore are not as likely to be taking vacations. Due to the commonality in which months had the lowest and highest wait times for each ride, I was steered to believe the relationship between the two variables was meaningful. The evaluation model summarized above confirmed that the relationship between the month of the year and the wait time for the Seven Dwarfs Train ride is statisitically significant. Therefore, when choosing when to visit Disney World based on wait times, it would be smarter to decide based on the month of the year versus the day of the week. "
   ]
  },
  {
   "cell_type": "markdown",
   "metadata": {},
   "source": [
    "**How does the percentage of schools in session affect the wait times for different rides?**\n",
    "\n",
    "To analyze this relationship, I performed a linear regression of the `inSession` variable and the combined wait times of the rides for each of the four parks. The relationship was clearly inverse for all four parks, but at different magnitudes. The linear regression of the rides in Hollywood Studios had the highest R-squared value so I decided to take a deeper look at the relationship in the evaluation section above. Here, the statistical model confirmed that there is a significant relationship between the two variables. Therefore, it would be worthwhile to consider if schools are in session or not when planning a trip to Disney World. "
   ]
  },
  {
   "cell_type": "markdown",
   "metadata": {},
   "source": [
    "**Is there a noticeable effect on the wait times for rides after a major news event regarding Disney has occurred?**\n",
    "\n",
    "The relationship between different news events and the wait times for the rides at Disney was defintiely more challenging to analyze. This is because it was comparing the wait times at specific times in the past rather than seeing if a specific variable had an effect. Based on my analysis above, I would conclude that the opening of Pandora: The World of Avatar in Animal Kingdom increased wait times of the other rides on the day that it opened. However, as time went on the wait times for the other rides in Animal Kingdom went down given the increased interest in the Avatar rides. However, my analysis results were not super clear, so I wouldn't argue that this event had a significant impact on wait times. \n",
    "\n",
    "The next event I analyzed was the debut of the new fireworks and lighting show at Magic Kingdom on May 12, 2017 at 9:00pm. After looking at how the late night wait times changed during May 2017, there was a noticeable increase on the day the show debuted and for most of the time after. Therefore, I would argue that the new show likely increased wait times for the late hours, but I would need to further analyze to confirm this conclusion. "
   ]
  },
  {
   "cell_type": "markdown",
   "metadata": {},
   "source": [
    "## VII. Limitations"
   ]
  },
  {
   "cell_type": "markdown",
   "metadata": {},
   "source": [
    "The main problem in my data set will be dealing with NaN values. For instance, in each park data sets, there are certain hours/days where rides did not report wait times. However, I didn't want to get rid of the wait times for those hours/days for other rides that did report. Therefore, there are some NaN values that I will have to keep in mind when exploring the data further. When visualizing this data, I will need to drop the NaN values. Functions like mean() already do this so it will not be a problem there. \n",
    "\n",
    "Another problem is in the metadata, there are a couple dates that are missing. I'm not exactly which ones or why, but the lengths of each year are slightly off (e.g. 2017 ony has 363 days reported). This could be a problem when trying to visualize data year by year because the indicies will be off. \n",
    "\n",
    "One other limitation is that I only am using data from a few attractions at each of the parks. Although the main source argues that these rides are a good way to judge the overall park, it is not enough to fully justify that the crowd levels at these attractions translate to crowd levels at the entire park. \n",
    "\n",
    "Lastly, the datasets only have values for the last 5 years. Therefore, I can observe trends in the last 5 years, but don't have enough data to argue my findings hold for the entire time WDW has been in operation. "
   ]
  },
  {
   "cell_type": "markdown",
   "metadata": {},
   "source": [
    "## VII. Source Code"
   ]
  },
  {
   "cell_type": "markdown",
   "metadata": {},
   "source": [
    "My Github repository can be found at https://github.com/cms464/info2950project. Here you can find my Phase 2, 3, and 4 notebooks as well as the datasets that I work with above. There are no other code files that I used for this project. "
   ]
  },
  {
   "cell_type": "markdown",
   "metadata": {},
   "source": [
    "## VIII. Acknowledgements"
   ]
  },
  {
   "cell_type": "markdown",
   "metadata": {},
   "source": [
    "How to create bar chart:\n",
    "https://stackoverflow.com/questions/42128467/matplotlib-plot-multiple-columns-of-pandas-data-frame-on-the-bar-chart"
   ]
  },
  {
   "cell_type": "markdown",
   "metadata": {},
   "source": [
    "More on paired sample t-test: https://towardsdatascience.com/hypothesis-testing-in-machine-learning-using-python-a0dc89e169ce"
   ]
  },
  {
   "cell_type": "markdown",
   "metadata": {},
   "source": [
    "How to link Jupyter Notebook:\n",
    "https://stackoverflow.com/questions/12590611/links-between-ipython-notebooks"
   ]
  },
  {
   "cell_type": "markdown",
   "metadata": {},
   "source": [
    "#### Links corresponding to the news events:\n",
    "- Opening of \"Pandora: The World of Avatar\": https://www.cnn.com/travel/article/disney-avatar-world-of-pandora-animal-kingdom/index.html#:~:text=Opening%20this%20weekend%3A%20Disney's%20latest,Disney%20World%20Resort%20in%20Florida\n",
    "- Debut of Happily Ever After Fireworks Show: https://disney.fandom.com/wiki/Happily_Ever_After"
   ]
  },
  {
   "cell_type": "markdown",
   "metadata": {},
   "source": [
    "## Appendix: Data Cleaning Description"
   ]
  },
  {
   "cell_type": "markdown",
   "metadata": {},
   "source": [
    "Here is a link to my [Phase 2 Notebook](p2.ipynb)\n",
    "\n",
    "My notebook for Phase 2 can also be found on my Github repository. "
   ]
  },
  {
   "cell_type": "markdown",
   "metadata": {},
   "source": [
    "## Questions for Reviewers"
   ]
  },
  {
   "cell_type": "markdown",
   "metadata": {},
   "source": [
    "1. Should I explain more in the **Data Analysis** section?\n",
    "2. Is it bad that the relationships do not seem that strong?\n",
    "3. What else would be worth looking at in the **Evaluation of Significance** section?\n",
    "4. What could be the reason why I am getting NaN result in my paired sample t-test?\n",
    "5. Should the data cleaning description be my Phase 2 Notebook or a new notebook that only handles data cleaning?"
   ]
  }
 ],
 "metadata": {
  "kernelspec": {
   "display_name": "Python 3",
   "language": "python",
   "name": "python3"
  },
  "language_info": {
   "codemirror_mode": {
    "name": "ipython",
    "version": 3
   },
   "file_extension": ".py",
   "mimetype": "text/x-python",
   "name": "python",
   "nbconvert_exporter": "python",
   "pygments_lexer": "ipython3",
   "version": "3.8.5"
  }
 },
 "nbformat": 4,
 "nbformat_minor": 4
}
